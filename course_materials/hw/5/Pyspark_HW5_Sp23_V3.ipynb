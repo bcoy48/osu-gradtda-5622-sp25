{
  "cells": [
    {
      "cell_type": "markdown",
      "metadata": {
        "id": "JUep2Q3eVbHD"
      },
      "source": [
        "# GRADTDA5622 - Big Data Computing Foundations 2\n",
        "## Homework 5: PySpark Practice\n",
        "- Semester: Spring 2023\n",
        "- Instructor: Tom Bihari\n",
        "- Section: N/A\n",
        "- Student Name: Able Baker **(fill in)**\n",
        "- Student Email: baker.12345@osu.edu **(fill in)**\n",
        "- Student ID: 123456789 **(fill in)**\n",
        "***"
      ]
    },
    {
      "cell_type": "markdown",
      "metadata": {
        "tags": [],
        "id": "NL7XmdwvVbHE"
      },
      "source": [
        "***\n",
        "# Section: Overview\n",
        "***"
      ]
    },
    {
      "cell_type": "markdown",
      "metadata": {
        "id": "YiD-WDMMVbHE"
      },
      "source": [
        "**The Objectives of This Assignment are:**\n",
        "1. To practice using common Spark operations.\n",
        "2. To practice using Spark to solve problems and answer questions.\n",
        "\n",
        "**Overview:**\n",
        "- I have provided a step by step approach you can follow.  Fill in the ... in each cell.\n",
        "- I have filled in some cells for you, as examples.\n",
        "- Refer to the **PySpark_DeepDive1** notebook covered in the **Deep Dive: Spark** module for examples of code that can be used in this assignment.\n",
        "\n",
        "**Some Good Resources:**\n",
        "- https://spark.apache.org/docs/latest/api/python/index.html\n",
        "- https://spark.apache.org/docs/latest/api/python/reference/pyspark.pandas/frame.html\n",
        "- https://sparkbyexamples.com/pyspark-tutorial/\n",
        "\n",
        "**Instructions:**\n",
        "- **Follow the instructions** in each section.\n",
        "- **Fill in** the **Conclusions** section."
      ]
    },
    {
      "cell_type": "markdown",
      "metadata": {
        "id": "z68oIF5GVbHF"
      },
      "source": [
        "***\n",
        "# Section: Setup\n",
        "- Add any needed imports, helper functions, etc., here.\n",
        "***"
      ]
    },
    {
      "cell_type": "code",
      "execution_count": 1,
      "metadata": {
        "id": "Sb0H_6SeVbHF"
      },
      "outputs": [],
      "source": [
        "try:\n",
        "    import pyspark\n",
        "except:\n",
        "    print('Installing pyspark')\n",
        "    !pip install pyspark\n",
        "    import pyspark\n",
        "\n",
        "# try:\n",
        "#     import pyspark_config\n",
        "# except:\n",
        "#     print('Installing pyspark_config')\n",
        "#     !pip install pyspark_config\n",
        "#     import pyspark_config"
      ]
    },
    {
      "cell_type": "code",
      "execution_count": 2,
      "metadata": {
        "id": "HEmKkVVEVbHF",
        "outputId": "ce1068cd-e1ed-4f5e-c9a3-c6ffef0e897b",
        "colab": {
          "base_uri": "https://localhost:8080/",
          "height": 36
        }
      },
      "outputs": [
        {
          "output_type": "execute_result",
          "data": {
            "text/plain": [
              "'3.5.4'"
            ],
            "application/vnd.google.colaboratory.intrinsic+json": {
              "type": "string"
            }
          },
          "metadata": {},
          "execution_count": 2
        }
      ],
      "source": [
        "# NOTE: If any of these libraries are not already loaded on OSC Jupyter+Spark (e.g., seaborn),\n",
        "#  go the the Launcher (New Launcher in the JupyterLab Files menu), open a Terminal, and type\n",
        "#  \"pip install seaborn\" (or the needed library).\n",
        "import numpy as np\n",
        "import pandas as pd\n",
        "import matplotlib.pyplot as plt\n",
        "import seaborn as sb\n",
        "from time import time\n",
        "from pyspark import SparkContext\n",
        "from pyspark.sql import SparkSession\n",
        "import pyspark.sql.functions as SqlF\n",
        "\n",
        "pd.set_option('display.max_columns', 50) #include to avoid ... in middle of display\n",
        "pyspark.__version__"
      ]
    },
    {
      "cell_type": "code",
      "execution_count": 3,
      "metadata": {
        "tags": [],
        "id": "8bZfOaWXVbHG"
      },
      "outputs": [],
      "source": [
        "spark = SparkSession.builder.master(\"local[*]\") \\\n",
        "                    .appName('MyApp') \\\n",
        "                    .getOrCreate()\n",
        "sc = spark.sparkContext  # Get the context, so we have a short name for it if we need it.\n",
        "#print(sc.appName)"
      ]
    },
    {
      "cell_type": "code",
      "execution_count": 4,
      "metadata": {
        "id": "DQqNLLmfVbHG"
      },
      "outputs": [],
      "source": [
        "# Identify the location of the shared data folder\n",
        "# shared_data_directory = \"../shared_Sp23/\"\n",
        "shared_data_directory = \"/content/\""
      ]
    },
    {
      "cell_type": "markdown",
      "metadata": {
        "id": "6gmq95JyVbHG"
      },
      "source": [
        "***\n",
        "# Section: 1 - Problem Overview / Business Understanding\n",
        "***"
      ]
    },
    {
      "cell_type": "markdown",
      "metadata": {
        "id": "tWayQhLZVbHH"
      },
      "source": [
        "The three provided datasets contain records of users' recommendations for movies (items).  The datasets are **data.csv**, **item.csv**, and **user.csv**.  See: https://grouplens.org/datasets/movielens/100k/ for descriptions of the datasets.\n",
        "\n",
        "The **goal** of the exercise is to **estimate a rating** for the movie **\"Mission: Impossible (1996)\"** by **User15**.\n",
        "\n",
        "- We will use a trivial approach (barely sensible, but easy):\n",
        "  - Find all \"other users\" who have rated the Mission Impossible movie already.\n",
        "  - If the average age of those \"other reviewers\" is within +- 20 years of User15's age:\n",
        "    - Average the ratings those \"other users\" gave to Mission Impossible to estimate a rating for User15 for Mission Impossible.\n",
        "    - Otherwise, just use the average rating User15 gave to other movies to estimate a rating for User15 for Mission Impossible.  "
      ]
    },
    {
      "cell_type": "markdown",
      "metadata": {
        "id": "Exu4YvWQVbHH"
      },
      "source": [
        "***\n",
        "# Section: 2 - Data Understanding\n",
        "***"
      ]
    },
    {
      "cell_type": "markdown",
      "metadata": {
        "id": "Z06wyG4aVbHH"
      },
      "source": [
        "***\n",
        "## Section: 2.1 - Describe the meaning and type of data for each attribute.\n",
        "- This can be pulled from the original metadata documentation, if available, fom other sources, or postulated based on values within the data.  Be explicit regarding the source, assumptions, etc., in particular if you are making educated guesses.\n",
        "***"
      ]
    },
    {
      "cell_type": "code",
      "execution_count": null,
      "metadata": {
        "id": "Z0MQ5KdyVbHH"
      },
      "outputs": [],
      "source": [
        "# Insert code and/or commentary here...  EXAMPLE CODE BELOW..."
      ]
    },
    {
      "cell_type": "markdown",
      "metadata": {
        "id": "NdH1ojOwVbHH"
      },
      "source": [
        "### Read the three datasets."
      ]
    },
    {
      "cell_type": "code",
      "execution_count": 5,
      "metadata": {
        "id": "qiQOdzVcWQfb",
        "outputId": "71bc9fb3-36c2-4103-daa4-f90511a41f27",
        "colab": {
          "base_uri": "https://localhost:8080/"
        }
      },
      "outputs": [
        {
          "output_type": "stream",
          "name": "stdout",
          "text": [
            "100000\n",
            "root\n",
            " |-- user_id: integer (nullable = true)\n",
            " |-- item_id: integer (nullable = true)\n",
            " |-- rating: integer (nullable = true)\n",
            " |-- timestamp: integer (nullable = true)\n",
            "\n",
            "+-------+-------+------+---------+\n",
            "|user_id|item_id|rating|timestamp|\n",
            "+-------+-------+------+---------+\n",
            "|1      |1      |5     |874965758|\n",
            "|1      |2      |3     |876893171|\n",
            "+-------+-------+------+---------+\n",
            "only showing top 2 rows\n",
            "\n"
          ]
        }
      ],
      "source": [
        "data_df = spark.read.csv(shared_data_directory + 'data.csv', header=True, inferSchema=True).orderBy('user_id','item_id')\n",
        "print(data_df.count())\n",
        "data_df.printSchema()\n",
        "data_df.show(2,truncate=False)"
      ]
    },
    {
      "cell_type": "code",
      "execution_count": null,
      "metadata": {
        "id": "Rbrj0q90VbHH"
      },
      "outputs": [],
      "source": [
        "# Insert code and/or commentary here...\n",
        "item_df = ..."
      ]
    },
    {
      "cell_type": "code",
      "execution_count": null,
      "metadata": {
        "id": "2j7Qh6wIVbHI"
      },
      "outputs": [],
      "source": [
        "# Insert code and/or commentary here...\n",
        "user_df = ..."
      ]
    },
    {
      "cell_type": "markdown",
      "metadata": {
        "id": "HFTSNuUHVbHI"
      },
      "source": [
        "***\n",
        "## Section: 2.2 - Provide basic statistics for the attributes.\n",
        "- For example: counts, percentiles, mean, median, standard deviation. The statistics should be relevant for the type of attribute.\n",
        "***"
      ]
    },
    {
      "cell_type": "code",
      "execution_count": 6,
      "metadata": {
        "id": "MwScX9GGVbHI",
        "outputId": "b2cb8de2-6c1a-4a49-ca7e-6a0cd0792bf1",
        "colab": {
          "base_uri": "https://localhost:8080/",
          "height": 206
        }
      },
      "outputs": [
        {
          "output_type": "execute_result",
          "data": {
            "text/plain": [
              "  summary            user_id             item_id              rating  \\\n",
              "0   count             100000              100000              100000   \n",
              "1    mean          462.48475           425.53013             3.52986   \n",
              "2  stddev  266.6144201275064  330.79835632558417  1.1256735991443165   \n",
              "3     min                  1                   1                   1   \n",
              "4     max                943                1682                   5   \n",
              "\n",
              "           timestamp  \n",
              "0             100000  \n",
              "1  8.8352885148862E8  \n",
              "2  5343856.189502888  \n",
              "3          874724710  \n",
              "4          893286638  "
            ],
            "text/html": [
              "\n",
              "  <div id=\"df-1b9ff792-5c97-46e8-aae9-5be85c3f1030\" class=\"colab-df-container\">\n",
              "    <div>\n",
              "<style scoped>\n",
              "    .dataframe tbody tr th:only-of-type {\n",
              "        vertical-align: middle;\n",
              "    }\n",
              "\n",
              "    .dataframe tbody tr th {\n",
              "        vertical-align: top;\n",
              "    }\n",
              "\n",
              "    .dataframe thead th {\n",
              "        text-align: right;\n",
              "    }\n",
              "</style>\n",
              "<table border=\"1\" class=\"dataframe\">\n",
              "  <thead>\n",
              "    <tr style=\"text-align: right;\">\n",
              "      <th></th>\n",
              "      <th>summary</th>\n",
              "      <th>user_id</th>\n",
              "      <th>item_id</th>\n",
              "      <th>rating</th>\n",
              "      <th>timestamp</th>\n",
              "    </tr>\n",
              "  </thead>\n",
              "  <tbody>\n",
              "    <tr>\n",
              "      <th>0</th>\n",
              "      <td>count</td>\n",
              "      <td>100000</td>\n",
              "      <td>100000</td>\n",
              "      <td>100000</td>\n",
              "      <td>100000</td>\n",
              "    </tr>\n",
              "    <tr>\n",
              "      <th>1</th>\n",
              "      <td>mean</td>\n",
              "      <td>462.48475</td>\n",
              "      <td>425.53013</td>\n",
              "      <td>3.52986</td>\n",
              "      <td>8.8352885148862E8</td>\n",
              "    </tr>\n",
              "    <tr>\n",
              "      <th>2</th>\n",
              "      <td>stddev</td>\n",
              "      <td>266.6144201275064</td>\n",
              "      <td>330.79835632558417</td>\n",
              "      <td>1.1256735991443165</td>\n",
              "      <td>5343856.189502888</td>\n",
              "    </tr>\n",
              "    <tr>\n",
              "      <th>3</th>\n",
              "      <td>min</td>\n",
              "      <td>1</td>\n",
              "      <td>1</td>\n",
              "      <td>1</td>\n",
              "      <td>874724710</td>\n",
              "    </tr>\n",
              "    <tr>\n",
              "      <th>4</th>\n",
              "      <td>max</td>\n",
              "      <td>943</td>\n",
              "      <td>1682</td>\n",
              "      <td>5</td>\n",
              "      <td>893286638</td>\n",
              "    </tr>\n",
              "  </tbody>\n",
              "</table>\n",
              "</div>\n",
              "    <div class=\"colab-df-buttons\">\n",
              "\n",
              "  <div class=\"colab-df-container\">\n",
              "    <button class=\"colab-df-convert\" onclick=\"convertToInteractive('df-1b9ff792-5c97-46e8-aae9-5be85c3f1030')\"\n",
              "            title=\"Convert this dataframe to an interactive table.\"\n",
              "            style=\"display:none;\">\n",
              "\n",
              "  <svg xmlns=\"http://www.w3.org/2000/svg\" height=\"24px\" viewBox=\"0 -960 960 960\">\n",
              "    <path d=\"M120-120v-720h720v720H120Zm60-500h600v-160H180v160Zm220 220h160v-160H400v160Zm0 220h160v-160H400v160ZM180-400h160v-160H180v160Zm440 0h160v-160H620v160ZM180-180h160v-160H180v160Zm440 0h160v-160H620v160Z\"/>\n",
              "  </svg>\n",
              "    </button>\n",
              "\n",
              "  <style>\n",
              "    .colab-df-container {\n",
              "      display:flex;\n",
              "      gap: 12px;\n",
              "    }\n",
              "\n",
              "    .colab-df-convert {\n",
              "      background-color: #E8F0FE;\n",
              "      border: none;\n",
              "      border-radius: 50%;\n",
              "      cursor: pointer;\n",
              "      display: none;\n",
              "      fill: #1967D2;\n",
              "      height: 32px;\n",
              "      padding: 0 0 0 0;\n",
              "      width: 32px;\n",
              "    }\n",
              "\n",
              "    .colab-df-convert:hover {\n",
              "      background-color: #E2EBFA;\n",
              "      box-shadow: 0px 1px 2px rgba(60, 64, 67, 0.3), 0px 1px 3px 1px rgba(60, 64, 67, 0.15);\n",
              "      fill: #174EA6;\n",
              "    }\n",
              "\n",
              "    .colab-df-buttons div {\n",
              "      margin-bottom: 4px;\n",
              "    }\n",
              "\n",
              "    [theme=dark] .colab-df-convert {\n",
              "      background-color: #3B4455;\n",
              "      fill: #D2E3FC;\n",
              "    }\n",
              "\n",
              "    [theme=dark] .colab-df-convert:hover {\n",
              "      background-color: #434B5C;\n",
              "      box-shadow: 0px 1px 3px 1px rgba(0, 0, 0, 0.15);\n",
              "      filter: drop-shadow(0px 1px 2px rgba(0, 0, 0, 0.3));\n",
              "      fill: #FFFFFF;\n",
              "    }\n",
              "  </style>\n",
              "\n",
              "    <script>\n",
              "      const buttonEl =\n",
              "        document.querySelector('#df-1b9ff792-5c97-46e8-aae9-5be85c3f1030 button.colab-df-convert');\n",
              "      buttonEl.style.display =\n",
              "        google.colab.kernel.accessAllowed ? 'block' : 'none';\n",
              "\n",
              "      async function convertToInteractive(key) {\n",
              "        const element = document.querySelector('#df-1b9ff792-5c97-46e8-aae9-5be85c3f1030');\n",
              "        const dataTable =\n",
              "          await google.colab.kernel.invokeFunction('convertToInteractive',\n",
              "                                                    [key], {});\n",
              "        if (!dataTable) return;\n",
              "\n",
              "        const docLinkHtml = 'Like what you see? Visit the ' +\n",
              "          '<a target=\"_blank\" href=https://colab.research.google.com/notebooks/data_table.ipynb>data table notebook</a>'\n",
              "          + ' to learn more about interactive tables.';\n",
              "        element.innerHTML = '';\n",
              "        dataTable['output_type'] = 'display_data';\n",
              "        await google.colab.output.renderOutput(dataTable, element);\n",
              "        const docLink = document.createElement('div');\n",
              "        docLink.innerHTML = docLinkHtml;\n",
              "        element.appendChild(docLink);\n",
              "      }\n",
              "    </script>\n",
              "  </div>\n",
              "\n",
              "\n",
              "<div id=\"df-0ae73cdc-d8ae-46f2-8cec-2343ca54b99c\">\n",
              "  <button class=\"colab-df-quickchart\" onclick=\"quickchart('df-0ae73cdc-d8ae-46f2-8cec-2343ca54b99c')\"\n",
              "            title=\"Suggest charts\"\n",
              "            style=\"display:none;\">\n",
              "\n",
              "<svg xmlns=\"http://www.w3.org/2000/svg\" height=\"24px\"viewBox=\"0 0 24 24\"\n",
              "     width=\"24px\">\n",
              "    <g>\n",
              "        <path d=\"M19 3H5c-1.1 0-2 .9-2 2v14c0 1.1.9 2 2 2h14c1.1 0 2-.9 2-2V5c0-1.1-.9-2-2-2zM9 17H7v-7h2v7zm4 0h-2V7h2v10zm4 0h-2v-4h2v4z\"/>\n",
              "    </g>\n",
              "</svg>\n",
              "  </button>\n",
              "\n",
              "<style>\n",
              "  .colab-df-quickchart {\n",
              "      --bg-color: #E8F0FE;\n",
              "      --fill-color: #1967D2;\n",
              "      --hover-bg-color: #E2EBFA;\n",
              "      --hover-fill-color: #174EA6;\n",
              "      --disabled-fill-color: #AAA;\n",
              "      --disabled-bg-color: #DDD;\n",
              "  }\n",
              "\n",
              "  [theme=dark] .colab-df-quickchart {\n",
              "      --bg-color: #3B4455;\n",
              "      --fill-color: #D2E3FC;\n",
              "      --hover-bg-color: #434B5C;\n",
              "      --hover-fill-color: #FFFFFF;\n",
              "      --disabled-bg-color: #3B4455;\n",
              "      --disabled-fill-color: #666;\n",
              "  }\n",
              "\n",
              "  .colab-df-quickchart {\n",
              "    background-color: var(--bg-color);\n",
              "    border: none;\n",
              "    border-radius: 50%;\n",
              "    cursor: pointer;\n",
              "    display: none;\n",
              "    fill: var(--fill-color);\n",
              "    height: 32px;\n",
              "    padding: 0;\n",
              "    width: 32px;\n",
              "  }\n",
              "\n",
              "  .colab-df-quickchart:hover {\n",
              "    background-color: var(--hover-bg-color);\n",
              "    box-shadow: 0 1px 2px rgba(60, 64, 67, 0.3), 0 1px 3px 1px rgba(60, 64, 67, 0.15);\n",
              "    fill: var(--button-hover-fill-color);\n",
              "  }\n",
              "\n",
              "  .colab-df-quickchart-complete:disabled,\n",
              "  .colab-df-quickchart-complete:disabled:hover {\n",
              "    background-color: var(--disabled-bg-color);\n",
              "    fill: var(--disabled-fill-color);\n",
              "    box-shadow: none;\n",
              "  }\n",
              "\n",
              "  .colab-df-spinner {\n",
              "    border: 2px solid var(--fill-color);\n",
              "    border-color: transparent;\n",
              "    border-bottom-color: var(--fill-color);\n",
              "    animation:\n",
              "      spin 1s steps(1) infinite;\n",
              "  }\n",
              "\n",
              "  @keyframes spin {\n",
              "    0% {\n",
              "      border-color: transparent;\n",
              "      border-bottom-color: var(--fill-color);\n",
              "      border-left-color: var(--fill-color);\n",
              "    }\n",
              "    20% {\n",
              "      border-color: transparent;\n",
              "      border-left-color: var(--fill-color);\n",
              "      border-top-color: var(--fill-color);\n",
              "    }\n",
              "    30% {\n",
              "      border-color: transparent;\n",
              "      border-left-color: var(--fill-color);\n",
              "      border-top-color: var(--fill-color);\n",
              "      border-right-color: var(--fill-color);\n",
              "    }\n",
              "    40% {\n",
              "      border-color: transparent;\n",
              "      border-right-color: var(--fill-color);\n",
              "      border-top-color: var(--fill-color);\n",
              "    }\n",
              "    60% {\n",
              "      border-color: transparent;\n",
              "      border-right-color: var(--fill-color);\n",
              "    }\n",
              "    80% {\n",
              "      border-color: transparent;\n",
              "      border-right-color: var(--fill-color);\n",
              "      border-bottom-color: var(--fill-color);\n",
              "    }\n",
              "    90% {\n",
              "      border-color: transparent;\n",
              "      border-bottom-color: var(--fill-color);\n",
              "    }\n",
              "  }\n",
              "</style>\n",
              "\n",
              "  <script>\n",
              "    async function quickchart(key) {\n",
              "      const quickchartButtonEl =\n",
              "        document.querySelector('#' + key + ' button');\n",
              "      quickchartButtonEl.disabled = true;  // To prevent multiple clicks.\n",
              "      quickchartButtonEl.classList.add('colab-df-spinner');\n",
              "      try {\n",
              "        const charts = await google.colab.kernel.invokeFunction(\n",
              "            'suggestCharts', [key], {});\n",
              "      } catch (error) {\n",
              "        console.error('Error during call to suggestCharts:', error);\n",
              "      }\n",
              "      quickchartButtonEl.classList.remove('colab-df-spinner');\n",
              "      quickchartButtonEl.classList.add('colab-df-quickchart-complete');\n",
              "    }\n",
              "    (() => {\n",
              "      let quickchartButtonEl =\n",
              "        document.querySelector('#df-0ae73cdc-d8ae-46f2-8cec-2343ca54b99c button');\n",
              "      quickchartButtonEl.style.display =\n",
              "        google.colab.kernel.accessAllowed ? 'block' : 'none';\n",
              "    })();\n",
              "  </script>\n",
              "</div>\n",
              "\n",
              "    </div>\n",
              "  </div>\n"
            ],
            "application/vnd.google.colaboratory.intrinsic+json": {
              "type": "dataframe",
              "summary": "{\n  \"name\": \"data_df\",\n  \"rows\": 5,\n  \"fields\": [\n    {\n      \"column\": \"summary\",\n      \"properties\": {\n        \"dtype\": \"string\",\n        \"num_unique_values\": 5,\n        \"samples\": [\n          \"mean\",\n          \"max\",\n          \"stddev\"\n        ],\n        \"semantic_type\": \"\",\n        \"description\": \"\"\n      }\n    },\n    {\n      \"column\": \"user_id\",\n      \"properties\": {\n        \"dtype\": \"string\",\n        \"num_unique_values\": 5,\n        \"samples\": [\n          \"462.48475\",\n          \"943\",\n          \"266.6144201275064\"\n        ],\n        \"semantic_type\": \"\",\n        \"description\": \"\"\n      }\n    },\n    {\n      \"column\": \"item_id\",\n      \"properties\": {\n        \"dtype\": \"string\",\n        \"num_unique_values\": 5,\n        \"samples\": [\n          \"425.53013\",\n          \"1682\",\n          \"330.79835632558417\"\n        ],\n        \"semantic_type\": \"\",\n        \"description\": \"\"\n      }\n    },\n    {\n      \"column\": \"rating\",\n      \"properties\": {\n        \"dtype\": \"string\",\n        \"num_unique_values\": 5,\n        \"samples\": [\n          \"3.52986\",\n          \"5\",\n          \"1.1256735991443165\"\n        ],\n        \"semantic_type\": \"\",\n        \"description\": \"\"\n      }\n    },\n    {\n      \"column\": \"timestamp\",\n      \"properties\": {\n        \"dtype\": \"string\",\n        \"num_unique_values\": 5,\n        \"samples\": [\n          \"8.8352885148862E8\",\n          \"893286638\",\n          \"5343856.189502888\"\n        ],\n        \"semantic_type\": \"\",\n        \"description\": \"\"\n      }\n    }\n  ]\n}"
            }
          },
          "metadata": {},
          "execution_count": 6
        }
      ],
      "source": [
        "data_df.describe().toPandas()"
      ]
    },
    {
      "cell_type": "code",
      "execution_count": null,
      "metadata": {
        "id": "cKu90kTpVbHI"
      },
      "outputs": [],
      "source": [
        "# Insert code and/or commentary here...\n",
        "item_df..."
      ]
    },
    {
      "cell_type": "code",
      "execution_count": null,
      "metadata": {
        "id": "Atx4xpKzVbHI"
      },
      "outputs": [],
      "source": [
        "# Insert code and/or commentary here...\n",
        "user_df..."
      ]
    },
    {
      "cell_type": "markdown",
      "metadata": {
        "id": "KLBRNxaAVbHI"
      },
      "source": [
        "***\n",
        "# Section: 3 - Data Pre-Processing\n",
        "***"
      ]
    },
    {
      "cell_type": "code",
      "execution_count": null,
      "metadata": {
        "id": "7NfXT5j3VbHI"
      },
      "outputs": [],
      "source": [
        "# Trim the data_df and item_df datasets down to only the necessary information.\n",
        "# Consider using \"select\" to keep only the 'user_id','item_id','rating' columns for data_df,\n",
        "#   and the 'movie_id' and 'movie_title' columns for item_df.\n",
        "\n",
        "data_df = ...\n",
        "item_df = ...\n",
        "#user_df = no changes needed"
      ]
    },
    {
      "cell_type": "code",
      "execution_count": null,
      "metadata": {
        "id": "gqt138IMVbHJ"
      },
      "outputs": [],
      "source": [
        "# Calculate the user statistics (count, min, average, max ratings).\n",
        "# Consider using \"groupBy\", \"agg\", \"orderBy\", etc.\n",
        "# Create a Dataframe containing: |user_id|count_rating|min_rating|avg_rating|max_rating|\n",
        "\n",
        "user_rating_df = ...\n",
        "\n",
        "print(user_rating_df.count())\n",
        "user_rating_df.show(5,truncate=False)"
      ]
    },
    {
      "cell_type": "code",
      "execution_count": null,
      "metadata": {
        "id": "KLN-RBS-VbHJ"
      },
      "outputs": [],
      "source": [
        "# Calculate the movie statistics (count, min, average, max ratings).\n",
        "# Consider using \"groupBy\", \"agg\", \"orderBy\", etc.\n",
        "# Create a Dataframe containing: |item_id|count_rating|min_rating|avg_rating|max_rating|\n",
        "\n",
        "item_rating_df = ...\n",
        "\n",
        "print(item_rating_df.count())\n",
        "item_rating_df.show(5,truncate=False)"
      ]
    },
    {
      "cell_type": "markdown",
      "metadata": {
        "id": "5wyKzFbUVbHJ"
      },
      "source": [
        "***\n",
        "# Section: 4 - Recommendation System\n",
        "- For each of the steps below, I have provided an outline of the computation to perform and the expected output structure.\n",
        "- Please fill in the computations.\n",
        "- You may choose to deviate from this structure, but if you do so, decribe the steps you chose.\n",
        "***"
      ]
    },
    {
      "cell_type": "code",
      "execution_count": 7,
      "metadata": {
        "id": "oiQalsw-VbHJ"
      },
      "outputs": [],
      "source": [
        "# Specify the user and movie of interest.\n",
        "\n",
        "user_x_id = 15\n",
        "movie_y_title = \"Mission: Impossible (1996)\""
      ]
    },
    {
      "cell_type": "code",
      "execution_count": null,
      "metadata": {
        "id": "ohVTkq69VbHJ"
      },
      "outputs": [],
      "source": [
        "# Get the demographics of this user, and save the age and gender.\n",
        "# Consider using the user_df from above, and the \"filter\" and \"collect\" operations.\n",
        "\n",
        "user_x_demographics = ...\n",
        "user_x_demographics.show()\n",
        "\n",
        "user_x_age = user_x_demographics.collect()[0]['age']\n",
        "print(\"user_x_age:\",user_x_age)\n",
        "\n",
        "user_x_gender = ...\n",
        "print(\"user_x_gender:\",user_x_gender)"
      ]
    },
    {
      "cell_type": "code",
      "execution_count": null,
      "metadata": {
        "id": "F2Di5w-cVbHJ"
      },
      "outputs": [],
      "source": [
        "# Get user X's average rating for all movies they actually have rated.\n",
        "# Consider using the user_rating_df from above, and the \"filter\" and \"collect\" operations.\n",
        "\n",
        "user_x_avg_rating = ...\n",
        "\n",
        "print(\"user_x_avg_rating:\",user_x_avg_rating)"
      ]
    },
    {
      "cell_type": "code",
      "execution_count": null,
      "metadata": {
        "id": "VwZ9wtUNVbHJ"
      },
      "outputs": [],
      "source": [
        "# Get the movie id for this movie title.\n",
        "# Consider using the \"filter\" and \"collect\" operations.\n",
        "\n",
        "movie_y_id = ...\n",
        "\n",
        "print(\"movie_y_id:\",movie_y_id)"
      ]
    },
    {
      "cell_type": "code",
      "execution_count": null,
      "metadata": {
        "id": "IkvVaMXJVbHJ"
      },
      "outputs": [],
      "source": [
        "# Get all of the other users who have rated movie Y.\n",
        "# Consider using \"filter\", \"select\", \"orderBy\", \"withColumnRenamed\".\n",
        "# Create a Dataframe containing: |other_user_id|movie_y_rating|\n",
        "\n",
        "other_reviewers_df = ...\n",
        "\n",
        "print(\"other_reviewers_df.count:\",other_reviewers_df.count())\n",
        "other_reviewers_df.show(5,truncate=False)"
      ]
    },
    {
      "cell_type": "code",
      "execution_count": null,
      "metadata": {
        "id": "cz5Ihnd0VbHJ"
      },
      "outputs": [],
      "source": [
        "# For each of the other reviewers of movie_y, get the demographics.\n",
        "# Consider using the other_reviewers_df and user_df from above, and the \"join\" operation.\n",
        "# Create a Dataframe containing: |other_user_id|movie_y_rating|age|gender|occupation|zip_code|\n",
        "\n",
        "other_reviewer_demo_df = ...\n",
        "\n",
        "print(\"other_reviewer_demo_df.count:\",other_reviewer_demo_df.count())\n",
        "other_reviewer_demo_df.show(5,truncate=False)"
      ]
    },
    {
      "cell_type": "code",
      "execution_count": null,
      "metadata": {
        "id": "fo9NA0l4VbHK"
      },
      "outputs": [],
      "source": [
        "# For the other reviewers, get the average movie_y_rating and average age.\n",
        "# Consider using the other_reviewer_demo_df and the \"agg\", \"SqlF.avg\" and \"collect\" operations.\n",
        "# Create a Dataframe containing: |item_id|other_user_id|other_user_rating|user_x_rating|\n",
        "\n",
        "avg_other_reviewer_movie_y_rating = ...\n",
        "print(\"avg_other_reviewer_movie_y_rating:\",avg_other_reviewer_movie_y_rating)\n",
        "\n",
        "avg_other_reviewer_age = ...\n",
        "print(\"avg_other_reviewer_age:\",avg_other_reviewer_age)"
      ]
    },
    {
      "cell_type": "code",
      "execution_count": null,
      "metadata": {
        "id": "c2h80YyjVbHK"
      },
      "outputs": [],
      "source": [
        "# This is a trivial way to make a recommendation.  Normally we would do something much\n",
        "# more sophisticated.  But we will keep it simple here.\n",
        "\n",
        "# If the average age of the other reviewers is within +- 20 years of user_x age,\n",
        "#  then assume user_x's rating of movie_y will be the average rating given by the other reviewers.\n",
        "#  Otherwise, assume user_x's rating for movie_y will be the average rating user_x has given\n",
        "#  to other movies they have rated.\n",
        "# Print this rating, with the explanation.\n",
        "\n",
        "age_diff = ...\n",
        "print(\"age_diff:\",age_diff)\n",
        "\n",
        "if age_diff <= 20:\n",
        "    print('''The average age of reviewers of movie_y is within 20 years\n",
        "    of the age of user_x.  So we will use their average rating for movie_y:''',avg_other_reviewer_movie_y_rating)\n",
        "else:\n",
        "    print('''The average age of reviewers of movie_y is NOT within 20 years\n",
        "    of the age of user_x.  So we will use the average rating of user_x for other movies :''',user_x_avg_rating)"
      ]
    },
    {
      "cell_type": "markdown",
      "metadata": {
        "id": "mSRfnWKAVbHK"
      },
      "source": [
        "***\n",
        "# Section: 6 - Conclusions\n",
        "- What are your overall conclusions about the assignment?\n",
        "- What did you learn?\n",
        "***"
      ]
    },
    {
      "cell_type": "code",
      "execution_count": null,
      "metadata": {
        "id": "lEyDJyAbVbHK"
      },
      "outputs": [],
      "source": [
        "# Insert commentary here."
      ]
    }
  ],
  "metadata": {
    "kernelspec": {
      "display_name": "Python 3",
      "language": "python",
      "name": "python3"
    },
    "language_info": {
      "codemirror_mode": {
        "name": "ipython",
        "version": 3
      },
      "file_extension": ".py",
      "mimetype": "text/x-python",
      "name": "python",
      "nbconvert_exporter": "python",
      "pygments_lexer": "ipython3",
      "version": "3.6.8"
    },
    "latex_envs": {
      "LaTeX_envs_menu_present": true,
      "autoclose": false,
      "autocomplete": true,
      "bibliofile": "biblio.bib",
      "cite_by": "apalike",
      "current_citInitial": 1,
      "eqLabelWithNumbers": true,
      "eqNumInitial": 1,
      "hotkeys": {
        "equation": "Ctrl-E",
        "itemize": "Ctrl-I"
      },
      "labels_anchors": false,
      "latex_user_defs": false,
      "report_style_numbering": false,
      "user_envs_cfg": false
    },
    "colab": {
      "provenance": []
    }
  },
  "nbformat": 4,
  "nbformat_minor": 0
}
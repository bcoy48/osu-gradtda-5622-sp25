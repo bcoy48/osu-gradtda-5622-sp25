{
  "cells": [
    {
      "cell_type": "markdown",
      "metadata": {
        "tags": [],
        "id": "ZHG0WgwnmTLY"
      },
      "source": [
        "# GRADTDA5622 - Big Data Computing Foundations 2\n",
        "## Case Study 1: CRISP_DM Step 2 Data Understanding (with Exploratory Data Analysis)\n",
        "Replace the example information below with your real information:\n",
        "- Semester: Spring/Autumn 20xx (FILL IN)\n",
        "- Instructor: Mr. X (FILL IN)\n",
        "- Section: 12345 (FILL IN) (if applicable)\n",
        "- Student Name(s): Able Baker (FILL IN)\n",
        "- Student Email(s): baker.12345@osu.edu (FILL IN)\n",
        "- Student ID(s): 123456789  (FILL IN)\n",
        "\n",
        "Based on CRISP-DM Template Version V12.\n",
        "***"
      ]
    },
    {
      "cell_type": "markdown",
      "metadata": {
        "tags": [],
        "id": "OyKfwpGOmTLZ"
      },
      "source": [
        "***\n",
        "# Section: Overview\n",
        "- Insert a short description of the scope of this exercise, any supporting information, etc.\n",
        "- **(I will fill this in for each assignment - Tom Bihari)**\n",
        "***"
      ]
    },
    {
      "cell_type": "markdown",
      "metadata": {
        "id": "i6J_TnWNmTLZ"
      },
      "source": [
        "### Assignment Overview\n",
        "In this assignment, you will analyze an ALTERED copy of the “Hotel Booking Demand” dataset.\n",
        "- This dataset was pulled on 4/8/22 from: https://www.kaggle.com/datasets/jessemostipak/hotel-booking-demand\n",
        "- The dataset file is named: **hotel_bookings_with_errors_V1.csv**\n",
        "\n",
        "**The data has been altered slightly for use in course assignments,etc.:**\n",
        "- A unique ROW attribute has been added.\n",
        "- Errors have been added, such as: duplicated records, deleted records, deleted attribute values, erroneous attribute values.\n",
        "**DO NOT PUBLISH THIS DATASET - it contains intentionally wrong data!**\n",
        "\n",
        "This assignment covers the **Step 2 - Data Understanding** of the six steps of the **CRISP-DM process model** (and very briefly Step 1 - Business Understanding).\n",
        "\n",
        "The **objectives** of this assignment are:\n",
        "- By analyzing and thinking critically about the data, you may identify interesting charcteristics that would be useful when deciding **if** and **how** to use the data.\n",
        "- The results of this step will help set the stage for Step Three (3), in which you may create a final, cleaned-up dataset that can be used for deeper analysis and model-building in the future.\n",
        "\n",
        "### Problem Statement\n",
        "Assume that you are the Director of Data Science for Buckeye Resorts, Inc. (BRI), an international hotel chain.  As is the case for all hotel chains, reservation cancellations cause significant impacts to BRI, in profitability, logistics, and other areas.  The cost to BRI of a cancelled reservation is $500 on average.\n",
        "\n",
        "- BRI wants to improve (decrease) the cancellation rates at its hotels, using more tailored interventions, based on newly available detailed data.  BRI processes 100,000 reservations per year, so an incremental improvement in cancellation rates would have a significant impact.\n",
        "\n",
        "- One intervention being considered is to offer a special financial incentive to customers who have reservations, but who are “at risk” of cancellation.  BRI has performed a small pilot test, and has found that offering a $100 discount to a customer who is planning to cancel is effective 30% of the time in inducing the customer not to cancel (by locking in a no-cancellation clause in exchange for the discount).\n",
        "\n",
        "- BRI leadership has asked your team to analyze the new data, and determine if it is suitable for developing analyses and models that would be effective in predicting which future reservations are likely to be at risk of cancellation, so the aforementioned financial incentive could be offered.\n",
        "\n",
        "- The head of BRI would then like you attend the upcoming BRI Board of Directors meeting.  She has asked you to present your findings to her and to the BOD, to help them decide whether to go forward with the planned tailored intervention approach, and/or to adjust or abandon the approach.  Your goal is to support the BOD in making a decision.\n",
        "\n",
        "You decide to look at the dataset and **explore (understand)** its contents.  You **do not** need to create (prepare) a clean dataset from it at this time, and you do not yet know the specific algorithm, formula or model you will use to predict cancellations.  **That will come in later steps.**\n",
        "\n",
        "### Things To Do\n",
        "Complete the sections for the first two steps of CRISP-DM in this notebook.  Some intial guidance / sugggestions:\n",
        "- **Business Understanding**: **Briefly** fill in the cells, using your thoughts on the specific item.  This is strictly for practice, for your benefit - it will not be graded rigorously.  You may leave cells empty or say \"I don't know.\", etc., if the topic is irrelevant.  **Don't spend a lot of time on it.**\n",
        "- **Data Understanding**: There are many attributes in this dataset. Once you have done some initial analysis, you may choose to concentrate on ones that seem more promising or useful.  However, you must give evidence and explain why the attributes that you choose to give less attention warrant the lack of attention.\n",
        "\n",
        "It is essential that you **communicate** your goals, thought process, actions, results, and conclusions to the **audience** that will consume this work.  It is **not enough** to show just the code.  It is not appropriate to show long sections of **unexplained printout**, etc.  Be kind to your readers and provide value to them!\n",
        "\n",
        "**ALWAYS follow this pattern** when doing **each portion** of the work.  This allows us to give feedback and assign scores, and to give partial credit.  Make it easy for the reader to understand your work.\n",
        "- Say (briefly) **what** you are trying to do, and **why**.\n",
        "- Do it (code).\n",
        "- Show or describe the **result** clearly (and briefly as needed), and explain the significant **conclusions or insights** derived from the results.\n",
        "\n",
        "**HAVE FUN!**"
      ]
    },
    {
      "cell_type": "markdown",
      "metadata": {
        "id": "UHbPZaYbmTLa"
      },
      "source": [
        "***\n",
        "# Section: Setup\n",
        "- Add any needed imports, helper functions, etc., here.\n",
        "***"
      ]
    },
    {
      "cell_type": "code",
      "execution_count": 1,
      "metadata": {
        "id": "f2YJLNzOmTLa"
      },
      "outputs": [],
      "source": [
        "import numpy as np\n",
        "import pandas as pd\n",
        "\n",
        "#!pip install matplotlib\n",
        "import matplotlib\n",
        "import matplotlib.pyplot as plt\n",
        "%matplotlib inline\n",
        "#matplotlib.use('Qt5Agg')\n",
        "\n",
        "import seaborn as sns\n",
        "\n",
        "pd.set_option('display.max_columns', 50) #include to avoid ... in middle of display"
      ]
    },
    {
      "cell_type": "markdown",
      "metadata": {
        "tags": [],
        "id": "9r-brfbymTLb"
      },
      "source": [
        "***\n",
        "# Section: 1 - Business Understanding\n",
        "- This step is essential (and occasionally ignored…).  It focuses on understanding the business needs and objectives, and defining a data analysis problem that is relevant and useful to the business, so the right solution is built.\n",
        "\n",
        "- Consider the following questions and discuss the possible answers to them in the spaces below.\n",
        "  - It is OK to say that you do not know.  How might you get answers to the questions?\n",
        "  - You may consider some of the questions to be \"not applicable\".  If so, why?\n",
        "  - You may choose to use markdown instead of raw text in the answer cells, to make them \"pretty\" and easy to read.\n",
        "***"
      ]
    },
    {
      "cell_type": "markdown",
      "metadata": {
        "id": "zx4Hnm-5mTLb"
      },
      "source": [
        "**Context**\n",
        "- What is the overview, history, big picture?"
      ]
    },
    {
      "cell_type": "code",
      "execution_count": null,
      "metadata": {
        "id": "XYqhB5yXmTLb"
      },
      "outputs": [],
      "source": []
    },
    {
      "cell_type": "markdown",
      "metadata": {
        "id": "zypsmMrVmTLb"
      },
      "source": [
        "**Business Objectives**\n",
        "- What is the problem or opportunity to be addressed / solved?\n",
        "- What is its business value?"
      ]
    },
    {
      "cell_type": "code",
      "execution_count": null,
      "metadata": {
        "id": "gF_MeE1FmTLb"
      },
      "outputs": [],
      "source": []
    },
    {
      "cell_type": "markdown",
      "metadata": {
        "id": "mETW2HsFmTLc"
      },
      "source": [
        "**Stakeholders**\n",
        "- Who are they?\n",
        "- What are their needs?"
      ]
    },
    {
      "cell_type": "code",
      "execution_count": null,
      "metadata": {
        "id": "RjX9VjN_mTLc"
      },
      "outputs": [],
      "source": []
    },
    {
      "cell_type": "markdown",
      "metadata": {
        "tags": [],
        "id": "MkB0U9ypmTLc"
      },
      "source": [
        "**General Goals**\n",
        "- Understand the past/current state (descriptive)?\n",
        "- Predict the future (predictive)?\n",
        "- Mine for unknown patterns / insights?\n",
        "- Answer questions?  What are they?\n",
        "- Support decisions?  What are they?"
      ]
    },
    {
      "cell_type": "code",
      "execution_count": null,
      "metadata": {
        "tags": [],
        "id": "uLOF1GDmmTLc"
      },
      "outputs": [],
      "source": []
    },
    {
      "cell_type": "markdown",
      "metadata": {
        "tags": [],
        "id": "9_c5NeTemTLc"
      },
      "source": [
        "**Scope**\n",
        "- What is the specific scope of the project?\n",
        "- What, specifically, is NOT in scope?  (What are you not doing that someone might think you are doing?)\n",
        "Is the scope flexible?  In what way?"
      ]
    },
    {
      "cell_type": "code",
      "execution_count": null,
      "metadata": {
        "id": "ki-k2gWHmTLc"
      },
      "outputs": [],
      "source": []
    },
    {
      "cell_type": "markdown",
      "metadata": {
        "id": "nD3yaYwHmTLc"
      },
      "source": [
        "**Deliverables**\n",
        "- Report?\n",
        "- Reusable code?\n",
        "- Presentation?"
      ]
    },
    {
      "cell_type": "code",
      "execution_count": null,
      "metadata": {
        "id": "vVTiIGTamTLc"
      },
      "outputs": [],
      "source": []
    },
    {
      "cell_type": "markdown",
      "metadata": {
        "id": "d6uGV6q4mTLc"
      },
      "source": [
        "**Success Criteria**\n",
        "- What, specifically, must be accomplished for this project to be a success?"
      ]
    },
    {
      "cell_type": "code",
      "execution_count": null,
      "metadata": {
        "id": "1X10KS0KmTLd"
      },
      "outputs": [],
      "source": []
    },
    {
      "cell_type": "markdown",
      "metadata": {
        "id": "n_tDcDkhmTLd"
      },
      "source": [
        "**Solution Approach**\n",
        "- Is this a “one time” (throw away) solution?\n",
        "- Or will the solution become part of repeated process that is used and enhanced over time?"
      ]
    },
    {
      "cell_type": "code",
      "execution_count": null,
      "metadata": {
        "id": "5JUepUQ3mTLd"
      },
      "outputs": [],
      "source": []
    },
    {
      "cell_type": "markdown",
      "metadata": {
        "id": "EGIDLQcgmTLd"
      },
      "source": [
        "**Quality**\n",
        "- What level of Correctness or Confidence is needed?\n",
        "- Is this life-critical or are we looking for ‘directionally correct’ results?"
      ]
    },
    {
      "cell_type": "code",
      "execution_count": null,
      "metadata": {
        "id": "8L8M0UDvmTLd"
      },
      "outputs": [],
      "source": []
    },
    {
      "cell_type": "markdown",
      "metadata": {
        "id": "M8Cmpb6bmTLd"
      },
      "source": [
        "**Constraints**\n",
        "- Are there legal / regulatory implications (privacy, security, liability, HIPAA, FERPA)?\n",
        "- Are there architectural constraints?"
      ]
    },
    {
      "cell_type": "code",
      "execution_count": null,
      "metadata": {
        "id": "yZJJs8utmTLd"
      },
      "outputs": [],
      "source": []
    },
    {
      "cell_type": "markdown",
      "metadata": {
        "tags": [],
        "id": "JVaXiA9hmTLd"
      },
      "source": [
        "**Time / Cost**\n",
        "- What is the deadline or budget?"
      ]
    },
    {
      "cell_type": "code",
      "execution_count": null,
      "metadata": {
        "id": "pSi1lAwfmTLd"
      },
      "outputs": [],
      "source": []
    },
    {
      "cell_type": "markdown",
      "metadata": {
        "tags": [],
        "id": "NcVF2DFAmTLd"
      },
      "source": [
        "**Dependencies**\n",
        "- Is this project dependent on any other project or activity?\n",
        "- Is any other project or activity dependent on this project?"
      ]
    },
    {
      "cell_type": "code",
      "execution_count": null,
      "metadata": {
        "id": "3lzJZb3kmTLe"
      },
      "outputs": [],
      "source": []
    },
    {
      "cell_type": "markdown",
      "metadata": {
        "id": "MQmYy2DSmTLe"
      },
      "source": [
        "**Resources Needed**\n",
        "- Do you potentially need access to specific people, data, etc?"
      ]
    },
    {
      "cell_type": "code",
      "execution_count": null,
      "metadata": {
        "id": "S8dH_FCkmTLe"
      },
      "outputs": [],
      "source": []
    },
    {
      "cell_type": "markdown",
      "metadata": {
        "id": "rJtJM_aMmTLe"
      },
      "source": [
        "**Other Considerations**\n",
        "- What other considerations, not covered above, might be relevant?"
      ]
    },
    {
      "cell_type": "code",
      "execution_count": null,
      "metadata": {
        "tags": [],
        "id": "pOhn4RtcmTLe"
      },
      "outputs": [],
      "source": []
    },
    {
      "cell_type": "markdown",
      "metadata": {
        "tags": [],
        "id": "EGHWCUPxmTLe"
      },
      "source": [
        "***\n",
        "# Section: 2 - Data Understanding\n",
        "- Perform exploratory data analysis of the dataset by looking at individual attributes and/or combinations of attributes. You should focus on identifying and describing interesting observations and insights that you might uncover from the data.\n",
        "- You should not simply provide the basic EDA information for all attributes in the data. Instead, you should focus on those that are more interesting or important, and provide some discussion of what you observe. Pay particular attention to potentially interesting bivariate (two-variable) relationships, as well as the relationship between each attribute and the class attribute (if this is a classification problem).\n",
        "- This step includes:\n",
        "  - Understanding what data might be available and relevant.\n",
        "  - Acquiring the data.\n",
        "  - Understanding the characteristics of the data (e.g., quality, completeness, currency, consistency,…).\n",
        "  - Understanding how other datasets might enhance or supplement the data (and acquiring that data as well).\n",
        "  - Possibly performing some initial analysis to build confidence that the overall direction is likely to be helpful to the business problem to be solved.\n",
        "\n",
        "**NOTE:** Frequently, a first pass is made through the data to fix or remove \"obvious\" data quality issues (missing values, duplicate records, outliers (some), etc.).  The deeper Data Understanding analysis then is done on the \"cleaned\" data.  This mitigates the issue of bad data skewing the data analysis results.  **For this example, we will not do this separate first pass.**\n",
        "***"
      ]
    },
    {
      "cell_type": "markdown",
      "metadata": {
        "id": "QFku53oXmTLe"
      },
      "source": [
        "***\n",
        "## Section: 2.1 - Describe the meaning and type of data for each attribute.\n",
        "\n",
        "Identify the type of data for each attribute.\n",
        "  - Categorical: Nominal, Ordinal\n",
        "  - Numerical: Interval, Ratio\n",
        "  - Other: Complex or unstructured data (e.g., text strings, images,...)\n",
        "  \n",
        "NOTES:\n",
        "  - This determines what operations are \"meaningful\" for each attribute.  For example, you can't add two Ordinal attributes.\n",
        "  - You can't always tell the attribute types from the data itself.  For example, an Integer attribute could be Ordinal or Interval.\n",
        "\n",
        "Identify interesting characteristics of the data (e.g., quality, completeness, currency, consistency,…).\n",
        "  - Is this dataset relevant and appropriate for the goals of this project?\n",
        "    - If not, what could you do? (find other data to replace or supplement this dataset, etc.)\n",
        "***"
      ]
    },
    {
      "cell_type": "markdown",
      "metadata": {
        "id": "FOc1S5rOmTLe"
      },
      "source": [
        "### **Examine the meta-data (e.g., from data dictionary) available for the dataset.**  \n",
        "#### As a reminder, the meta-data can be found [here](https://www.kaggle.com/datasets/jessemostipak/hotel-booking-demand)."
      ]
    },
    {
      "cell_type": "code",
      "execution_count": null,
      "metadata": {
        "id": "1nwmhgaYmTLe"
      },
      "outputs": [],
      "source": []
    },
    {
      "cell_type": "markdown",
      "metadata": {
        "id": "OHa4vY0TmTLf"
      },
      "source": [
        "**Discussion:**\n",
        "- Please fill in a response..."
      ]
    },
    {
      "cell_type": "markdown",
      "metadata": {
        "id": "-7ezCaDhmTLf"
      },
      "source": [
        "### **Load the Dataset.**"
      ]
    },
    {
      "cell_type": "code",
      "execution_count": null,
      "metadata": {
        "tags": [],
        "id": "1F7bcvQ5mTLf"
      },
      "outputs": [],
      "source": [
        "#OPTIONAL: Load it only once per session, and save it, so we don't waste time.\n",
        "\n",
        "#NOTE: You may need to change the path to the data file, depending on your setup.\n",
        "\n",
        "try:\n",
        "    _ = data_from_source_file_df\n",
        "    print(\"Reusing source data\")\n",
        "except:\n",
        "    print(\"Loading source data\")\n",
        "    # data_from_source_file_df = pd.read_csv(\"../shared_Sp23/hotel_bookings_with_errors_V1.csv\")\n",
        "    data_from_source_file_df = pd.read_csv(\"https://bcoy48.github.io/osu-gradtda-5622-sp25/course_materials/case_studies/1/hotel_bookings_with_errors_V1.csv\")\n",
        "data_df = data_from_source_file_df\n",
        "print(\"Done!\")"
      ]
    },
    {
      "cell_type": "code",
      "execution_count": 3,
      "metadata": {
        "id": "8t7HZeu6mTLg",
        "outputId": "1c6af842-2d7c-4faa-a4d4-54ab60443587",
        "colab": {
          "base_uri": "https://localhost:8080/"
        }
      },
      "outputs": [
        {
          "output_type": "stream",
          "name": "stdout",
          "text": [
            "<class 'pandas.core.frame.DataFrame'>\n",
            "RangeIndex: 119391 entries, 0 to 119390\n",
            "Data columns (total 33 columns):\n",
            " #   Column                          Non-Null Count   Dtype  \n",
            "---  ------                          --------------   -----  \n",
            " 0   ROW                             119391 non-null  int64  \n",
            " 1   hotel                           119391 non-null  object \n",
            " 2   is_canceled                     119390 non-null  float64\n",
            " 3   lead_time                       119391 non-null  int64  \n",
            " 4   arrival_date_year               119391 non-null  int64  \n",
            " 5   arrival_date_month              119391 non-null  object \n",
            " 6   arrival_date_week_number        119391 non-null  int64  \n",
            " 7   arrival_date_day_of_month       119391 non-null  int64  \n",
            " 8   stays_in_weekend_nights         119391 non-null  int64  \n",
            " 9   stays_in_week_nights            119391 non-null  int64  \n",
            " 10  adults                          119391 non-null  int64  \n",
            " 11  children                        119387 non-null  float64\n",
            " 12  babies                          119391 non-null  int64  \n",
            " 13  meal                            119391 non-null  object \n",
            " 14  country                         118903 non-null  object \n",
            " 15  market_segment                  119391 non-null  object \n",
            " 16  distribution_channel            119391 non-null  object \n",
            " 17  is_repeated_guest               119391 non-null  int64  \n",
            " 18  previous_cancellations          119391 non-null  int64  \n",
            " 19  previous_bookings_not_canceled  119391 non-null  int64  \n",
            " 20  reserved_room_type              119391 non-null  object \n",
            " 21  assigned_room_type              119391 non-null  object \n",
            " 22  booking_changes                 119391 non-null  int64  \n",
            " 23  deposit_type                    119391 non-null  object \n",
            " 24  agent                           103051 non-null  float64\n",
            " 25  company                         6797 non-null    float64\n",
            " 26  days_in_waiting_list            119391 non-null  int64  \n",
            " 27  customer_type                   119391 non-null  object \n",
            " 28  adr                             119391 non-null  float64\n",
            " 29  required_car_parking_spaces     119391 non-null  int64  \n",
            " 30  total_of_special_requests       119391 non-null  int64  \n",
            " 31  reservation_status              119391 non-null  object \n",
            " 32  reservation_status_date         119391 non-null  object \n",
            "dtypes: float64(5), int64(16), object(12)\n",
            "memory usage: 30.1+ MB\n"
          ]
        }
      ],
      "source": [
        "# Print the schema, based on the data in the file.\n",
        "data_df.info()"
      ]
    },
    {
      "cell_type": "markdown",
      "metadata": {
        "id": "lWXp7CcmmTLh"
      },
      "source": [
        "**Discussion:**\n",
        "- Please fill in a response..."
      ]
    },
    {
      "cell_type": "code",
      "execution_count": null,
      "metadata": {
        "id": "Q-md-v9_mTLh"
      },
      "outputs": [],
      "source": [
        "# # Create some simple lists for future use\n",
        "# all_attribute_names = list(data_df)\n",
        "# print(all_attribute_names)\n",
        "# class_attribute_name = []\n",
        "# nominal_attribute_names = []\n",
        "# ordinal_attribute_names = []\n",
        "# categorical_attribute_names = nominal_attribute_names + ordinal_attribute_names\n",
        "# interval_attribute_names = []\n",
        "# ratio_attribute_names = []\n",
        "# numerical_attribute_names = interval_attribute_names + ratio_attribute_names"
      ]
    },
    {
      "cell_type": "markdown",
      "metadata": {
        "id": "WeJxKRbfmTLh"
      },
      "source": [
        "**Discussion:**\n",
        "- Please fill in a response..."
      ]
    },
    {
      "cell_type": "code",
      "execution_count": null,
      "metadata": {
        "id": "xCXM7kKqmTLh"
      },
      "outputs": [],
      "source": []
    },
    {
      "cell_type": "markdown",
      "metadata": {
        "tags": [],
        "id": "dQUNffLjmTLh"
      },
      "source": [
        "***\n",
        "## Section: 2.2 - Provide basic statistics for the attributes.\n",
        "- For example: counts, percentiles, mean, median, standard deviation. The statistics should be relevant for the type of attribute.\n",
        "***"
      ]
    },
    {
      "cell_type": "code",
      "execution_count": null,
      "metadata": {
        "id": "otQsJ5wamTLh"
      },
      "outputs": [],
      "source": [
        "# # This is an optional step.  Pandas Profiling is a library that provides a sophisticated profiling report\n",
        "# #  that can be saved in the form of an interactive HTML file.  See: https://pypi.org/project/pandas-profiling/\n",
        "# #  It may run very slowly on large datasets.  It is best to limit the number of records to profile, based on\n",
        "# #  experimentation with your computer.  You can do so by profiling small samples from large datasets.\n",
        "# #  You also can specify the \"minimal=True\" argument in newer versions of the library.\n",
        "# # To install, uncomment and run the following line (one time).\n",
        "# #!pip install pandas_profiling\n",
        "\n",
        "# import pandas_profiling\n",
        "# if data_df.shape[0] > 500:\n",
        "#     profile = pandas_profiling.ProfileReport(data_df.sample(n=500))  # Limit to a small set of records.\n",
        "#     #profile = pandas_profiling.ProfileReport(data_df, minimal=True)  # Limit to the simpler profiling.\n",
        "# else:\n",
        "#     profile = pandas_profiling.ProfileReport(data_df)\n",
        "# profile.to_file(\"./profilereport.html\")\n",
        "\n",
        "# # Set plotting back to interactive mode (pandas_profiling sets it to non-interactive)\n",
        "# %matplotlib inline"
      ]
    },
    {
      "cell_type": "markdown",
      "metadata": {
        "tags": [],
        "id": "zji2wp7zmTLh"
      },
      "source": [
        "**Discussion:**\n",
        "- Please fill in a response..."
      ]
    },
    {
      "cell_type": "code",
      "execution_count": 4,
      "metadata": {
        "tags": [],
        "id": "cm11YfCwmTLh",
        "outputId": "7920fcfc-0c95-41f3-b43f-854fcaaab96e",
        "colab": {
          "base_uri": "https://localhost:8080/",
          "height": 320
        }
      },
      "outputs": [
        {
          "output_type": "execute_result",
          "data": {
            "text/plain": [
              "                 ROW    is_canceled      lead_time  arrival_date_year  \\\n",
              "count  119391.000000  119390.000000  119391.000000      119391.000000   \n",
              "mean    59694.000050       0.370408     104.010662        2016.156544   \n",
              "std     34465.357245       0.482916     106.862967           0.707481   \n",
              "min         0.000000       0.000000       0.000000        2015.000000   \n",
              "25%     29846.500000       0.000000      18.000000        2016.000000   \n",
              "50%     59694.000000       0.000000      69.000000        2016.000000   \n",
              "75%     89541.500000       1.000000     160.000000        2017.000000   \n",
              "max    119389.000000       1.000000     737.000000        2017.000000   \n",
              "\n",
              "       arrival_date_week_number  arrival_date_day_of_month  \\\n",
              "count             119391.000000              119391.000000   \n",
              "mean                  27.165172                  15.798117   \n",
              "std                   13.605081                   8.780897   \n",
              "min                    1.000000                   1.000000   \n",
              "25%                   16.000000                   8.000000   \n",
              "50%                   28.000000                  16.000000   \n",
              "75%                   38.000000                  23.000000   \n",
              "max                   53.000000                  31.000000   \n",
              "\n",
              "       stays_in_weekend_nights  stays_in_week_nights         adults  \\\n",
              "count            119391.000000         119391.000000  119391.000000   \n",
              "mean                  0.927591              2.500297       1.856572   \n",
              "std                   0.998613              1.908278       0.582185   \n",
              "min                   0.000000              0.000000       0.000000   \n",
              "25%                   0.000000              1.000000       2.000000   \n",
              "50%                   1.000000              2.000000       2.000000   \n",
              "75%                   2.000000              3.000000       2.000000   \n",
              "max                  19.000000             50.000000      55.000000   \n",
              "\n",
              "            children         babies  is_repeated_guest  \\\n",
              "count  119387.000000  119391.000000      119391.000000   \n",
              "mean        0.103889       0.007949           0.031912   \n",
              "std         0.398560       0.097436           0.175766   \n",
              "min         0.000000       0.000000           0.000000   \n",
              "25%         0.000000       0.000000           0.000000   \n",
              "50%         0.000000       0.000000           0.000000   \n",
              "75%         0.000000       0.000000           0.000000   \n",
              "max        10.000000      10.000000           1.000000   \n",
              "\n",
              "       previous_cancellations  previous_bookings_not_canceled  \\\n",
              "count           119391.000000                   119391.000000   \n",
              "mean                 0.087117                        0.137096   \n",
              "std                  0.844333                        1.497431   \n",
              "min                  0.000000                        0.000000   \n",
              "25%                  0.000000                        0.000000   \n",
              "50%                  0.000000                        0.000000   \n",
              "75%                  0.000000                        0.000000   \n",
              "max                 26.000000                       72.000000   \n",
              "\n",
              "       booking_changes         agent      company  days_in_waiting_list  \\\n",
              "count    119391.000000  103051.00000  6797.000000         119391.000000   \n",
              "mean          0.221122      86.69487   189.266735              2.321130   \n",
              "std           0.652303     110.77504   131.655015             17.594648   \n",
              "min           0.000000       1.00000     6.000000              0.000000   \n",
              "25%           0.000000       9.00000    62.000000              0.000000   \n",
              "50%           0.000000      14.00000   179.000000              0.000000   \n",
              "75%           0.000000     229.00000   270.000000              0.000000   \n",
              "max          21.000000     535.00000   543.000000            391.000000   \n",
              "\n",
              "                 adr  required_car_parking_spaces  total_of_special_requests  \n",
              "count  119391.000000                119391.000000              119391.000000  \n",
              "mean      101.831089                     0.062517                   0.571366  \n",
              "std        50.535580                     0.245290                   0.792796  \n",
              "min        -6.380000                     0.000000                   0.000000  \n",
              "25%        69.290000                     0.000000                   0.000000  \n",
              "50%        94.590000                     0.000000                   0.000000  \n",
              "75%       126.000000                     0.000000                   1.000000  \n",
              "max      5400.000000                     8.000000                   5.000000  "
            ],
            "text/html": [
              "\n",
              "  <div id=\"df-17af647b-ef4a-4f7b-8ac0-79b76513e47f\" class=\"colab-df-container\">\n",
              "    <div>\n",
              "<style scoped>\n",
              "    .dataframe tbody tr th:only-of-type {\n",
              "        vertical-align: middle;\n",
              "    }\n",
              "\n",
              "    .dataframe tbody tr th {\n",
              "        vertical-align: top;\n",
              "    }\n",
              "\n",
              "    .dataframe thead th {\n",
              "        text-align: right;\n",
              "    }\n",
              "</style>\n",
              "<table border=\"1\" class=\"dataframe\">\n",
              "  <thead>\n",
              "    <tr style=\"text-align: right;\">\n",
              "      <th></th>\n",
              "      <th>ROW</th>\n",
              "      <th>is_canceled</th>\n",
              "      <th>lead_time</th>\n",
              "      <th>arrival_date_year</th>\n",
              "      <th>arrival_date_week_number</th>\n",
              "      <th>arrival_date_day_of_month</th>\n",
              "      <th>stays_in_weekend_nights</th>\n",
              "      <th>stays_in_week_nights</th>\n",
              "      <th>adults</th>\n",
              "      <th>children</th>\n",
              "      <th>babies</th>\n",
              "      <th>is_repeated_guest</th>\n",
              "      <th>previous_cancellations</th>\n",
              "      <th>previous_bookings_not_canceled</th>\n",
              "      <th>booking_changes</th>\n",
              "      <th>agent</th>\n",
              "      <th>company</th>\n",
              "      <th>days_in_waiting_list</th>\n",
              "      <th>adr</th>\n",
              "      <th>required_car_parking_spaces</th>\n",
              "      <th>total_of_special_requests</th>\n",
              "    </tr>\n",
              "  </thead>\n",
              "  <tbody>\n",
              "    <tr>\n",
              "      <th>count</th>\n",
              "      <td>119391.000000</td>\n",
              "      <td>119390.000000</td>\n",
              "      <td>119391.000000</td>\n",
              "      <td>119391.000000</td>\n",
              "      <td>119391.000000</td>\n",
              "      <td>119391.000000</td>\n",
              "      <td>119391.000000</td>\n",
              "      <td>119391.000000</td>\n",
              "      <td>119391.000000</td>\n",
              "      <td>119387.000000</td>\n",
              "      <td>119391.000000</td>\n",
              "      <td>119391.000000</td>\n",
              "      <td>119391.000000</td>\n",
              "      <td>119391.000000</td>\n",
              "      <td>119391.000000</td>\n",
              "      <td>103051.00000</td>\n",
              "      <td>6797.000000</td>\n",
              "      <td>119391.000000</td>\n",
              "      <td>119391.000000</td>\n",
              "      <td>119391.000000</td>\n",
              "      <td>119391.000000</td>\n",
              "    </tr>\n",
              "    <tr>\n",
              "      <th>mean</th>\n",
              "      <td>59694.000050</td>\n",
              "      <td>0.370408</td>\n",
              "      <td>104.010662</td>\n",
              "      <td>2016.156544</td>\n",
              "      <td>27.165172</td>\n",
              "      <td>15.798117</td>\n",
              "      <td>0.927591</td>\n",
              "      <td>2.500297</td>\n",
              "      <td>1.856572</td>\n",
              "      <td>0.103889</td>\n",
              "      <td>0.007949</td>\n",
              "      <td>0.031912</td>\n",
              "      <td>0.087117</td>\n",
              "      <td>0.137096</td>\n",
              "      <td>0.221122</td>\n",
              "      <td>86.69487</td>\n",
              "      <td>189.266735</td>\n",
              "      <td>2.321130</td>\n",
              "      <td>101.831089</td>\n",
              "      <td>0.062517</td>\n",
              "      <td>0.571366</td>\n",
              "    </tr>\n",
              "    <tr>\n",
              "      <th>std</th>\n",
              "      <td>34465.357245</td>\n",
              "      <td>0.482916</td>\n",
              "      <td>106.862967</td>\n",
              "      <td>0.707481</td>\n",
              "      <td>13.605081</td>\n",
              "      <td>8.780897</td>\n",
              "      <td>0.998613</td>\n",
              "      <td>1.908278</td>\n",
              "      <td>0.582185</td>\n",
              "      <td>0.398560</td>\n",
              "      <td>0.097436</td>\n",
              "      <td>0.175766</td>\n",
              "      <td>0.844333</td>\n",
              "      <td>1.497431</td>\n",
              "      <td>0.652303</td>\n",
              "      <td>110.77504</td>\n",
              "      <td>131.655015</td>\n",
              "      <td>17.594648</td>\n",
              "      <td>50.535580</td>\n",
              "      <td>0.245290</td>\n",
              "      <td>0.792796</td>\n",
              "    </tr>\n",
              "    <tr>\n",
              "      <th>min</th>\n",
              "      <td>0.000000</td>\n",
              "      <td>0.000000</td>\n",
              "      <td>0.000000</td>\n",
              "      <td>2015.000000</td>\n",
              "      <td>1.000000</td>\n",
              "      <td>1.000000</td>\n",
              "      <td>0.000000</td>\n",
              "      <td>0.000000</td>\n",
              "      <td>0.000000</td>\n",
              "      <td>0.000000</td>\n",
              "      <td>0.000000</td>\n",
              "      <td>0.000000</td>\n",
              "      <td>0.000000</td>\n",
              "      <td>0.000000</td>\n",
              "      <td>0.000000</td>\n",
              "      <td>1.00000</td>\n",
              "      <td>6.000000</td>\n",
              "      <td>0.000000</td>\n",
              "      <td>-6.380000</td>\n",
              "      <td>0.000000</td>\n",
              "      <td>0.000000</td>\n",
              "    </tr>\n",
              "    <tr>\n",
              "      <th>25%</th>\n",
              "      <td>29846.500000</td>\n",
              "      <td>0.000000</td>\n",
              "      <td>18.000000</td>\n",
              "      <td>2016.000000</td>\n",
              "      <td>16.000000</td>\n",
              "      <td>8.000000</td>\n",
              "      <td>0.000000</td>\n",
              "      <td>1.000000</td>\n",
              "      <td>2.000000</td>\n",
              "      <td>0.000000</td>\n",
              "      <td>0.000000</td>\n",
              "      <td>0.000000</td>\n",
              "      <td>0.000000</td>\n",
              "      <td>0.000000</td>\n",
              "      <td>0.000000</td>\n",
              "      <td>9.00000</td>\n",
              "      <td>62.000000</td>\n",
              "      <td>0.000000</td>\n",
              "      <td>69.290000</td>\n",
              "      <td>0.000000</td>\n",
              "      <td>0.000000</td>\n",
              "    </tr>\n",
              "    <tr>\n",
              "      <th>50%</th>\n",
              "      <td>59694.000000</td>\n",
              "      <td>0.000000</td>\n",
              "      <td>69.000000</td>\n",
              "      <td>2016.000000</td>\n",
              "      <td>28.000000</td>\n",
              "      <td>16.000000</td>\n",
              "      <td>1.000000</td>\n",
              "      <td>2.000000</td>\n",
              "      <td>2.000000</td>\n",
              "      <td>0.000000</td>\n",
              "      <td>0.000000</td>\n",
              "      <td>0.000000</td>\n",
              "      <td>0.000000</td>\n",
              "      <td>0.000000</td>\n",
              "      <td>0.000000</td>\n",
              "      <td>14.00000</td>\n",
              "      <td>179.000000</td>\n",
              "      <td>0.000000</td>\n",
              "      <td>94.590000</td>\n",
              "      <td>0.000000</td>\n",
              "      <td>0.000000</td>\n",
              "    </tr>\n",
              "    <tr>\n",
              "      <th>75%</th>\n",
              "      <td>89541.500000</td>\n",
              "      <td>1.000000</td>\n",
              "      <td>160.000000</td>\n",
              "      <td>2017.000000</td>\n",
              "      <td>38.000000</td>\n",
              "      <td>23.000000</td>\n",
              "      <td>2.000000</td>\n",
              "      <td>3.000000</td>\n",
              "      <td>2.000000</td>\n",
              "      <td>0.000000</td>\n",
              "      <td>0.000000</td>\n",
              "      <td>0.000000</td>\n",
              "      <td>0.000000</td>\n",
              "      <td>0.000000</td>\n",
              "      <td>0.000000</td>\n",
              "      <td>229.00000</td>\n",
              "      <td>270.000000</td>\n",
              "      <td>0.000000</td>\n",
              "      <td>126.000000</td>\n",
              "      <td>0.000000</td>\n",
              "      <td>1.000000</td>\n",
              "    </tr>\n",
              "    <tr>\n",
              "      <th>max</th>\n",
              "      <td>119389.000000</td>\n",
              "      <td>1.000000</td>\n",
              "      <td>737.000000</td>\n",
              "      <td>2017.000000</td>\n",
              "      <td>53.000000</td>\n",
              "      <td>31.000000</td>\n",
              "      <td>19.000000</td>\n",
              "      <td>50.000000</td>\n",
              "      <td>55.000000</td>\n",
              "      <td>10.000000</td>\n",
              "      <td>10.000000</td>\n",
              "      <td>1.000000</td>\n",
              "      <td>26.000000</td>\n",
              "      <td>72.000000</td>\n",
              "      <td>21.000000</td>\n",
              "      <td>535.00000</td>\n",
              "      <td>543.000000</td>\n",
              "      <td>391.000000</td>\n",
              "      <td>5400.000000</td>\n",
              "      <td>8.000000</td>\n",
              "      <td>5.000000</td>\n",
              "    </tr>\n",
              "  </tbody>\n",
              "</table>\n",
              "</div>\n",
              "    <div class=\"colab-df-buttons\">\n",
              "\n",
              "  <div class=\"colab-df-container\">\n",
              "    <button class=\"colab-df-convert\" onclick=\"convertToInteractive('df-17af647b-ef4a-4f7b-8ac0-79b76513e47f')\"\n",
              "            title=\"Convert this dataframe to an interactive table.\"\n",
              "            style=\"display:none;\">\n",
              "\n",
              "  <svg xmlns=\"http://www.w3.org/2000/svg\" height=\"24px\" viewBox=\"0 -960 960 960\">\n",
              "    <path d=\"M120-120v-720h720v720H120Zm60-500h600v-160H180v160Zm220 220h160v-160H400v160Zm0 220h160v-160H400v160ZM180-400h160v-160H180v160Zm440 0h160v-160H620v160ZM180-180h160v-160H180v160Zm440 0h160v-160H620v160Z\"/>\n",
              "  </svg>\n",
              "    </button>\n",
              "\n",
              "  <style>\n",
              "    .colab-df-container {\n",
              "      display:flex;\n",
              "      gap: 12px;\n",
              "    }\n",
              "\n",
              "    .colab-df-convert {\n",
              "      background-color: #E8F0FE;\n",
              "      border: none;\n",
              "      border-radius: 50%;\n",
              "      cursor: pointer;\n",
              "      display: none;\n",
              "      fill: #1967D2;\n",
              "      height: 32px;\n",
              "      padding: 0 0 0 0;\n",
              "      width: 32px;\n",
              "    }\n",
              "\n",
              "    .colab-df-convert:hover {\n",
              "      background-color: #E2EBFA;\n",
              "      box-shadow: 0px 1px 2px rgba(60, 64, 67, 0.3), 0px 1px 3px 1px rgba(60, 64, 67, 0.15);\n",
              "      fill: #174EA6;\n",
              "    }\n",
              "\n",
              "    .colab-df-buttons div {\n",
              "      margin-bottom: 4px;\n",
              "    }\n",
              "\n",
              "    [theme=dark] .colab-df-convert {\n",
              "      background-color: #3B4455;\n",
              "      fill: #D2E3FC;\n",
              "    }\n",
              "\n",
              "    [theme=dark] .colab-df-convert:hover {\n",
              "      background-color: #434B5C;\n",
              "      box-shadow: 0px 1px 3px 1px rgba(0, 0, 0, 0.15);\n",
              "      filter: drop-shadow(0px 1px 2px rgba(0, 0, 0, 0.3));\n",
              "      fill: #FFFFFF;\n",
              "    }\n",
              "  </style>\n",
              "\n",
              "    <script>\n",
              "      const buttonEl =\n",
              "        document.querySelector('#df-17af647b-ef4a-4f7b-8ac0-79b76513e47f button.colab-df-convert');\n",
              "      buttonEl.style.display =\n",
              "        google.colab.kernel.accessAllowed ? 'block' : 'none';\n",
              "\n",
              "      async function convertToInteractive(key) {\n",
              "        const element = document.querySelector('#df-17af647b-ef4a-4f7b-8ac0-79b76513e47f');\n",
              "        const dataTable =\n",
              "          await google.colab.kernel.invokeFunction('convertToInteractive',\n",
              "                                                    [key], {});\n",
              "        if (!dataTable) return;\n",
              "\n",
              "        const docLinkHtml = 'Like what you see? Visit the ' +\n",
              "          '<a target=\"_blank\" href=https://colab.research.google.com/notebooks/data_table.ipynb>data table notebook</a>'\n",
              "          + ' to learn more about interactive tables.';\n",
              "        element.innerHTML = '';\n",
              "        dataTable['output_type'] = 'display_data';\n",
              "        await google.colab.output.renderOutput(dataTable, element);\n",
              "        const docLink = document.createElement('div');\n",
              "        docLink.innerHTML = docLinkHtml;\n",
              "        element.appendChild(docLink);\n",
              "      }\n",
              "    </script>\n",
              "  </div>\n",
              "\n",
              "\n",
              "<div id=\"df-88811068-6e68-4796-9645-f414d6a889a2\">\n",
              "  <button class=\"colab-df-quickchart\" onclick=\"quickchart('df-88811068-6e68-4796-9645-f414d6a889a2')\"\n",
              "            title=\"Suggest charts\"\n",
              "            style=\"display:none;\">\n",
              "\n",
              "<svg xmlns=\"http://www.w3.org/2000/svg\" height=\"24px\"viewBox=\"0 0 24 24\"\n",
              "     width=\"24px\">\n",
              "    <g>\n",
              "        <path d=\"M19 3H5c-1.1 0-2 .9-2 2v14c0 1.1.9 2 2 2h14c1.1 0 2-.9 2-2V5c0-1.1-.9-2-2-2zM9 17H7v-7h2v7zm4 0h-2V7h2v10zm4 0h-2v-4h2v4z\"/>\n",
              "    </g>\n",
              "</svg>\n",
              "  </button>\n",
              "\n",
              "<style>\n",
              "  .colab-df-quickchart {\n",
              "      --bg-color: #E8F0FE;\n",
              "      --fill-color: #1967D2;\n",
              "      --hover-bg-color: #E2EBFA;\n",
              "      --hover-fill-color: #174EA6;\n",
              "      --disabled-fill-color: #AAA;\n",
              "      --disabled-bg-color: #DDD;\n",
              "  }\n",
              "\n",
              "  [theme=dark] .colab-df-quickchart {\n",
              "      --bg-color: #3B4455;\n",
              "      --fill-color: #D2E3FC;\n",
              "      --hover-bg-color: #434B5C;\n",
              "      --hover-fill-color: #FFFFFF;\n",
              "      --disabled-bg-color: #3B4455;\n",
              "      --disabled-fill-color: #666;\n",
              "  }\n",
              "\n",
              "  .colab-df-quickchart {\n",
              "    background-color: var(--bg-color);\n",
              "    border: none;\n",
              "    border-radius: 50%;\n",
              "    cursor: pointer;\n",
              "    display: none;\n",
              "    fill: var(--fill-color);\n",
              "    height: 32px;\n",
              "    padding: 0;\n",
              "    width: 32px;\n",
              "  }\n",
              "\n",
              "  .colab-df-quickchart:hover {\n",
              "    background-color: var(--hover-bg-color);\n",
              "    box-shadow: 0 1px 2px rgba(60, 64, 67, 0.3), 0 1px 3px 1px rgba(60, 64, 67, 0.15);\n",
              "    fill: var(--button-hover-fill-color);\n",
              "  }\n",
              "\n",
              "  .colab-df-quickchart-complete:disabled,\n",
              "  .colab-df-quickchart-complete:disabled:hover {\n",
              "    background-color: var(--disabled-bg-color);\n",
              "    fill: var(--disabled-fill-color);\n",
              "    box-shadow: none;\n",
              "  }\n",
              "\n",
              "  .colab-df-spinner {\n",
              "    border: 2px solid var(--fill-color);\n",
              "    border-color: transparent;\n",
              "    border-bottom-color: var(--fill-color);\n",
              "    animation:\n",
              "      spin 1s steps(1) infinite;\n",
              "  }\n",
              "\n",
              "  @keyframes spin {\n",
              "    0% {\n",
              "      border-color: transparent;\n",
              "      border-bottom-color: var(--fill-color);\n",
              "      border-left-color: var(--fill-color);\n",
              "    }\n",
              "    20% {\n",
              "      border-color: transparent;\n",
              "      border-left-color: var(--fill-color);\n",
              "      border-top-color: var(--fill-color);\n",
              "    }\n",
              "    30% {\n",
              "      border-color: transparent;\n",
              "      border-left-color: var(--fill-color);\n",
              "      border-top-color: var(--fill-color);\n",
              "      border-right-color: var(--fill-color);\n",
              "    }\n",
              "    40% {\n",
              "      border-color: transparent;\n",
              "      border-right-color: var(--fill-color);\n",
              "      border-top-color: var(--fill-color);\n",
              "    }\n",
              "    60% {\n",
              "      border-color: transparent;\n",
              "      border-right-color: var(--fill-color);\n",
              "    }\n",
              "    80% {\n",
              "      border-color: transparent;\n",
              "      border-right-color: var(--fill-color);\n",
              "      border-bottom-color: var(--fill-color);\n",
              "    }\n",
              "    90% {\n",
              "      border-color: transparent;\n",
              "      border-bottom-color: var(--fill-color);\n",
              "    }\n",
              "  }\n",
              "</style>\n",
              "\n",
              "  <script>\n",
              "    async function quickchart(key) {\n",
              "      const quickchartButtonEl =\n",
              "        document.querySelector('#' + key + ' button');\n",
              "      quickchartButtonEl.disabled = true;  // To prevent multiple clicks.\n",
              "      quickchartButtonEl.classList.add('colab-df-spinner');\n",
              "      try {\n",
              "        const charts = await google.colab.kernel.invokeFunction(\n",
              "            'suggestCharts', [key], {});\n",
              "      } catch (error) {\n",
              "        console.error('Error during call to suggestCharts:', error);\n",
              "      }\n",
              "      quickchartButtonEl.classList.remove('colab-df-spinner');\n",
              "      quickchartButtonEl.classList.add('colab-df-quickchart-complete');\n",
              "    }\n",
              "    (() => {\n",
              "      let quickchartButtonEl =\n",
              "        document.querySelector('#df-88811068-6e68-4796-9645-f414d6a889a2 button');\n",
              "      quickchartButtonEl.style.display =\n",
              "        google.colab.kernel.accessAllowed ? 'block' : 'none';\n",
              "    })();\n",
              "  </script>\n",
              "</div>\n",
              "\n",
              "    </div>\n",
              "  </div>\n"
            ],
            "application/vnd.google.colaboratory.intrinsic+json": {
              "type": "dataframe"
            }
          },
          "metadata": {},
          "execution_count": 4
        }
      ],
      "source": [
        "data_df.describe() #calculates statistics for all numerical columns"
      ]
    },
    {
      "cell_type": "markdown",
      "metadata": {
        "tags": [],
        "id": "C6C0a7pPmTLi"
      },
      "source": [
        "**Discussion:**\n",
        "Note that there are some suspicious values above.  These may be data quality issues.  Suggestions:\n",
        "- Please fill in a response..."
      ]
    },
    {
      "cell_type": "markdown",
      "metadata": {
        "id": "cfx-6c7_mTLi"
      },
      "source": [
        "***\n",
        "## Section: 2.3 - Visualize / analyze the most important or interesting attributes using appropriate techniques.\n",
        "- For each visualization, provide an interpretation explaining why it is appropriate or interesting. What does each visualization tell us?\n",
        "***"
      ]
    },
    {
      "cell_type": "code",
      "execution_count": null,
      "metadata": {
        "tags": [],
        "id": "_tUfox2WmTLi"
      },
      "outputs": [],
      "source": []
    },
    {
      "cell_type": "markdown",
      "metadata": {
        "tags": [],
        "id": "LaIkSz_HmTLi"
      },
      "source": [
        "**Discussion:**\n",
        "Note that there are some suspicious values above.  These may be data quality issues.  Suggestions:\n",
        "- Please fill in a response..."
      ]
    },
    {
      "cell_type": "code",
      "execution_count": null,
      "metadata": {
        "id": "GHzWHnyAmTLi"
      },
      "outputs": [],
      "source": []
    },
    {
      "cell_type": "markdown",
      "metadata": {
        "id": "YY5NgCUemTLi"
      },
      "source": [
        "***\n",
        "## Section: 2.4 - Verify data quality: explain any missing values, duplicate data, or outliers.\n",
        "- What, if anything, do you need to do about these? Be specific.\n",
        "***"
      ]
    },
    {
      "cell_type": "markdown",
      "metadata": {
        "tags": [],
        "id": "MDZa17zRmTLi"
      },
      "source": [
        "### **Missing Attribute Values**"
      ]
    },
    {
      "cell_type": "code",
      "execution_count": null,
      "metadata": {
        "tags": [],
        "id": "gz2kR_mhmTLj"
      },
      "outputs": [],
      "source": []
    },
    {
      "cell_type": "markdown",
      "metadata": {
        "id": "jrTr0uIYmTLj"
      },
      "source": [
        "**Discussion:**\n",
        "Suggested actions:\n",
        "- Please fill in a response..."
      ]
    },
    {
      "cell_type": "code",
      "execution_count": null,
      "metadata": {
        "id": "cM8mXS95mTLj"
      },
      "outputs": [],
      "source": []
    },
    {
      "cell_type": "markdown",
      "metadata": {
        "tags": [],
        "id": "sAnsCobUmTLj"
      },
      "source": [
        "### **Duplicate Records**"
      ]
    },
    {
      "cell_type": "code",
      "execution_count": null,
      "metadata": {
        "tags": [],
        "id": "teQoBsqhmTLj"
      },
      "outputs": [],
      "source": []
    },
    {
      "cell_type": "markdown",
      "metadata": {
        "id": "207zLuZgmTLj"
      },
      "source": [
        "**Discussion:**\n",
        "Suggested actions:\n",
        "- Please fill in a response..."
      ]
    },
    {
      "cell_type": "code",
      "execution_count": null,
      "metadata": {
        "id": "uS0hIiDdmTLj"
      },
      "outputs": [],
      "source": []
    },
    {
      "cell_type": "markdown",
      "metadata": {
        "tags": [],
        "id": "m5x5Fus8mTLj"
      },
      "source": [
        "### **Outliers**\n",
        "- There are many ways to discover and handle outliers, and many resources online.  Here is a nice discussion:\n",
        "- https://stackoverflow.com/questions/23199796/detect-and-exclude-outliers-in-a-pandas-dataframe"
      ]
    },
    {
      "cell_type": "code",
      "execution_count": null,
      "metadata": {
        "id": "4nxuq_bdmTLj"
      },
      "outputs": [],
      "source": []
    },
    {
      "cell_type": "markdown",
      "metadata": {
        "id": "s9cSx2FMmTLk"
      },
      "source": [
        "**Discussion:**\n",
        "Suggested actions:\n",
        "- Please fill in a response..."
      ]
    },
    {
      "cell_type": "code",
      "execution_count": null,
      "metadata": {
        "id": "pVrZ7qzEmTLk"
      },
      "outputs": [],
      "source": []
    },
    {
      "cell_type": "markdown",
      "metadata": {
        "id": "QUX7x3P0mTLk"
      },
      "source": [
        "***\n",
        "## Section: 2.5 - Explore the relationships among the attributes.\n",
        "- You may include or exclude the class attribute as appropriate.\n",
        "- Use scatter plots, correlation matrices, cross-tabulations, group-wise averages, or other appropriate techniques. Explain and interpret any interesting relationships.\n",
        "- There are three general cases for 2-attribute relationships:\n",
        "  - Categorical vs Categorical\n",
        "  - Categorical vs Numerical\n",
        "  - Numerical vs Numerical\n",
        "***"
      ]
    },
    {
      "cell_type": "markdown",
      "metadata": {
        "id": "FeLIKhUpmTLk"
      },
      "source": [
        "### **Categorical Attribute vs Categorical Attribute**"
      ]
    },
    {
      "cell_type": "code",
      "execution_count": null,
      "metadata": {
        "tags": [],
        "id": "QhdSTyNmmTLk"
      },
      "outputs": [],
      "source": []
    },
    {
      "cell_type": "markdown",
      "metadata": {
        "tags": [],
        "id": "S2rA_Bg8mTLk"
      },
      "source": [
        "**Discussion:**\n",
        "- Please fill in a response..."
      ]
    },
    {
      "cell_type": "code",
      "execution_count": null,
      "metadata": {
        "id": "pXNBjcanmTLk"
      },
      "outputs": [],
      "source": []
    },
    {
      "cell_type": "markdown",
      "metadata": {
        "id": "0lEqLW9pmTLk"
      },
      "source": [
        "### **Categorical Attribute vs Numerical Attribute**"
      ]
    },
    {
      "cell_type": "code",
      "execution_count": null,
      "metadata": {
        "tags": [],
        "id": "gkV1SXRxmTLk"
      },
      "outputs": [],
      "source": []
    },
    {
      "cell_type": "markdown",
      "metadata": {
        "id": "k7oVqEKRmTLl"
      },
      "source": [
        "**Discussion:**\n",
        "- Please fill in a response..."
      ]
    },
    {
      "cell_type": "code",
      "execution_count": null,
      "metadata": {
        "id": "12f_cc-KmTLl"
      },
      "outputs": [],
      "source": []
    },
    {
      "cell_type": "markdown",
      "metadata": {
        "id": "SF_ssmgFmTLl"
      },
      "source": [
        "### **Numerical Attribute vs Numerical Attribute**"
      ]
    },
    {
      "cell_type": "code",
      "execution_count": null,
      "metadata": {
        "tags": [],
        "id": "0Ar9I2RAmTLl"
      },
      "outputs": [],
      "source": []
    },
    {
      "cell_type": "markdown",
      "metadata": {
        "id": "Cmnwi9QpmTLl"
      },
      "source": [
        "**Discussion:**\n",
        "- Please fill in a response..."
      ]
    },
    {
      "cell_type": "code",
      "execution_count": null,
      "metadata": {
        "id": "iKanDSqxmTLl"
      },
      "outputs": [],
      "source": []
    },
    {
      "cell_type": "markdown",
      "metadata": {
        "id": "EHQSSsaXmTLl"
      },
      "source": [
        "***\n",
        "## Section: 2.6 - Identify and explain any interesting relationships between the class attribute and the other attributes.\n",
        "- You may refer to earlier analyses / visualizations (if you included the class attribute above) or create new ones.\n",
        "***"
      ]
    },
    {
      "cell_type": "code",
      "execution_count": null,
      "metadata": {
        "id": "fLPDIGQmmTLl"
      },
      "outputs": [],
      "source": []
    },
    {
      "cell_type": "markdown",
      "metadata": {
        "id": "AQXbxdSCmTLm"
      },
      "source": [
        "**Discussion:**\n",
        "- Please fill in a response..."
      ]
    },
    {
      "cell_type": "code",
      "execution_count": null,
      "metadata": {
        "id": "mn6aizWEmTLm"
      },
      "outputs": [],
      "source": []
    },
    {
      "cell_type": "markdown",
      "metadata": {
        "tags": [],
        "id": "e1FGtYWCmTLm"
      },
      "source": [
        "***\n",
        "# Section: 3 - Data Preparation\n",
        "In this step, the “final” target dataset is constructed (although nothing is ever final…), based on the insights gleaned in the Data Understanding step.\n",
        "This may include:\n",
        "- Normalizing / standardizing the data.\n",
        "- Handling missing and erroneous data.\n",
        "- Transforming or eliminating attributes.\n",
        "- “Blending” data from multiple sources (with attention to consistency of the various sources).\n",
        "- Deploying the data to storage in suitable formats, data models / structures.\n",
        "***"
      ]
    },
    {
      "cell_type": "markdown",
      "metadata": {
        "tags": [],
        "id": "3MWV3lb7mTLm"
      },
      "source": [
        "***\n",
        "## Section: 3.1 - Clean the Data\n",
        "- Implement any data cleaning steps previously identified.  Please justify.\n",
        "- Show the effects of that cleaning through the use of appropriate statistics and/or visualizations.\n",
        "***"
      ]
    },
    {
      "cell_type": "code",
      "execution_count": null,
      "metadata": {
        "tags": [],
        "id": "mMlcaMBumTLm"
      },
      "outputs": [],
      "source": []
    },
    {
      "cell_type": "markdown",
      "metadata": {
        "id": "zvEmaKSemTLm"
      },
      "source": [
        "**Discussion:**\n",
        "- Please fill in a response..."
      ]
    },
    {
      "cell_type": "code",
      "execution_count": null,
      "metadata": {
        "tags": [],
        "id": "yUMTsreimTLm"
      },
      "outputs": [],
      "source": []
    },
    {
      "cell_type": "markdown",
      "metadata": {
        "tags": [],
        "id": "fndDvm11mTLn"
      },
      "source": [
        "***\n",
        "## Section: 3.2 - Select Attributes\n",
        "- Optionally, remove attributes that are unneeded, redundant, etc., for the expected uses.\n",
        "- Which attributes did you decide to remove, if any? Please justify.\n",
        "***"
      ]
    },
    {
      "cell_type": "code",
      "execution_count": null,
      "metadata": {
        "id": "wYlry7hgmTLn"
      },
      "outputs": [],
      "source": []
    },
    {
      "cell_type": "markdown",
      "metadata": {
        "id": "7ly7ke-ImTLn"
      },
      "source": [
        "**Discussion:**\n",
        "- Please fill in a response..."
      ]
    },
    {
      "cell_type": "code",
      "execution_count": null,
      "metadata": {
        "id": "pGT0tSbvmTLn"
      },
      "outputs": [],
      "source": []
    },
    {
      "cell_type": "markdown",
      "metadata": {
        "tags": [],
        "id": "CEmWaB7lmTLn"
      },
      "source": [
        "***\n",
        "## Section: 3.3 - Create Attributes\n",
        "- Optionally, create new attributes based on the values of other attibutes.\n",
        "- Which new attributes did you decide to create, if any? Please justify.\n",
        "***"
      ]
    },
    {
      "cell_type": "code",
      "execution_count": null,
      "metadata": {
        "id": "ucrFgSURmTLn"
      },
      "outputs": [],
      "source": []
    },
    {
      "cell_type": "markdown",
      "metadata": {
        "id": "94-ELD2amTLn"
      },
      "source": [
        "**Discussion:**\n",
        "- Please fill in a response..."
      ]
    },
    {
      "cell_type": "code",
      "execution_count": null,
      "metadata": {
        "tags": [],
        "id": "5HxAXT3SmTLn"
      },
      "outputs": [],
      "source": []
    },
    {
      "cell_type": "markdown",
      "metadata": {
        "id": "ipHOWG7ZmTLn"
      },
      "source": [
        "***\n",
        "## Section: 3.4 - Transform Attributes\n",
        "- Optionally, transform existing attributes (e.g., standardize, normalize, change units of measure, encode) to make them more appropriate for the expected uses.\n",
        "- Which attributes did you decide to transform, if any? Please justify.\n",
        "***"
      ]
    },
    {
      "cell_type": "code",
      "execution_count": null,
      "metadata": {
        "id": "mr3pClm_mTLn"
      },
      "outputs": [],
      "source": []
    },
    {
      "cell_type": "markdown",
      "metadata": {
        "id": "GKtDh_XdmTLo"
      },
      "source": [
        "**Discussion:**\n",
        "- Please fill in a response..."
      ]
    },
    {
      "cell_type": "code",
      "execution_count": null,
      "metadata": {
        "tags": [],
        "id": "CxwXqlzumTLo"
      },
      "outputs": [],
      "source": []
    },
    {
      "cell_type": "markdown",
      "metadata": {
        "id": "vA3PDahAmTLo"
      },
      "source": [
        "***\n",
        "## Section: 3.5 - Select Records\n",
        "- Optionally, select a subset of the records, via sampling, etc., to decrease the size of the dataset. Please justify.\n",
        "***"
      ]
    },
    {
      "cell_type": "code",
      "execution_count": null,
      "metadata": {
        "id": "D2Yb_Z2ymTLo"
      },
      "outputs": [],
      "source": []
    },
    {
      "cell_type": "markdown",
      "metadata": {
        "tags": [],
        "id": "Ksr9FQenmTLo"
      },
      "source": [
        "**Discussion:**\n",
        "- Please fill in a response..."
      ]
    },
    {
      "cell_type": "code",
      "execution_count": null,
      "metadata": {
        "tags": [],
        "id": "X5KVJW1JmTLo"
      },
      "outputs": [],
      "source": []
    },
    {
      "cell_type": "markdown",
      "metadata": {
        "id": "UVFGMJGkmTLo"
      },
      "source": [
        "***\n",
        "## Section: 3.6 - Other Data Preparation\n",
        "- Optionally, perform other preparation steps (e.g., to optimize storage, retrieval, etc.). Please justify.\n",
        "***"
      ]
    },
    {
      "cell_type": "code",
      "execution_count": null,
      "metadata": {
        "id": "32WMHDesmTLo"
      },
      "outputs": [],
      "source": []
    },
    {
      "cell_type": "markdown",
      "metadata": {
        "tags": [],
        "id": "hq4yBo7rmTLo"
      },
      "source": [
        "**Discussion:**\n",
        "- Please fill in a response..."
      ]
    },
    {
      "cell_type": "code",
      "execution_count": null,
      "metadata": {
        "tags": [],
        "id": "LUQWr7timTLp"
      },
      "outputs": [],
      "source": []
    },
    {
      "cell_type": "markdown",
      "metadata": {
        "tags": [],
        "id": "Gv9ODSuAmTLp"
      },
      "source": [
        "***\n",
        "# Section: 4 - Modeling\n",
        "In this step, the dataset is analyzed and used to create models and/or answer questions relevant to the business. This may include:\n",
        "- Developing statistical models for describing or predicting business situations.\n",
        "- Training data mining (e.g., machine learning) algorithms for classification, clustering, association analysis, outlier detection, and other uses.\n",
        "\n",
        "NOTE: This step is tightly coupled and iterative with the Data Preparation and Evaluation steps.\n",
        "***"
      ]
    },
    {
      "cell_type": "code",
      "execution_count": null,
      "metadata": {
        "id": "skCEFekrmTLp"
      },
      "outputs": [],
      "source": []
    },
    {
      "cell_type": "markdown",
      "metadata": {
        "id": "Ak-ai3GjmTLp"
      },
      "source": [
        "**Discussion:**\n",
        "- Please fill in a response..."
      ]
    },
    {
      "cell_type": "code",
      "execution_count": null,
      "metadata": {
        "id": "xUviRK2ZmTLp"
      },
      "outputs": [],
      "source": []
    },
    {
      "cell_type": "markdown",
      "metadata": {
        "tags": [],
        "id": "mjuKUVyEmTLp"
      },
      "source": [
        "***\n",
        "# Section: 5 - Evaluation\n",
        "In this step, the analyses and/or models are evaluated for quality and relevance / usefulness.\n",
        "\n",
        "NOTE: This step is tightly coupled and iterative with the Modeling step.\n",
        "***"
      ]
    },
    {
      "cell_type": "code",
      "execution_count": null,
      "metadata": {
        "id": "ZSIVd9RAmTLp"
      },
      "outputs": [],
      "source": []
    },
    {
      "cell_type": "markdown",
      "metadata": {
        "id": "DR8y75QzmTLp"
      },
      "source": [
        "**Discussion:**\n",
        "- Please fill in a response..."
      ]
    },
    {
      "cell_type": "code",
      "execution_count": null,
      "metadata": {
        "id": "6U9pf2UOmTLp"
      },
      "outputs": [],
      "source": []
    },
    {
      "cell_type": "markdown",
      "metadata": {
        "tags": [],
        "id": "OTMmf_JumTLp"
      },
      "source": [
        "***\n",
        "# Section: 6 - Deployment\n",
        "In this step, data and resulting models and/or analyses are put to use. This may include:\n",
        "- Deploying data mining / machine learning algorithms to production.\n",
        "- Communicating the results of the analyses to business stakeholders, so they can take action.\n",
        "***"
      ]
    },
    {
      "cell_type": "code",
      "execution_count": null,
      "metadata": {
        "id": "OF6mO_3umTLp"
      },
      "outputs": [],
      "source": []
    },
    {
      "cell_type": "markdown",
      "metadata": {
        "tags": [],
        "id": "zDJo4j-WmTLq"
      },
      "source": [
        "**Discussion:**\n",
        "- Please fill in a response..."
      ]
    },
    {
      "cell_type": "code",
      "execution_count": null,
      "metadata": {
        "id": "9fllqw1tmTLq"
      },
      "outputs": [],
      "source": []
    },
    {
      "cell_type": "markdown",
      "metadata": {
        "tags": [],
        "id": "dumDdbT8mTLq"
      },
      "source": [
        "***\n",
        "# Section: Conclusions\n",
        "- What did you learn from this exercise?\n",
        "***"
      ]
    },
    {
      "cell_type": "markdown",
      "metadata": {
        "tags": [],
        "id": "hka4zp8UmTLq"
      },
      "source": [
        "Please fill in a response..."
      ]
    },
    {
      "cell_type": "code",
      "execution_count": null,
      "metadata": {
        "id": "SDohuk6dmTLq"
      },
      "outputs": [],
      "source": []
    }
  ],
  "metadata": {
    "kernelspec": {
      "display_name": "Python 3",
      "language": "python",
      "name": "python3"
    },
    "language_info": {
      "codemirror_mode": {
        "name": "ipython",
        "version": 3
      },
      "file_extension": ".py",
      "mimetype": "text/x-python",
      "name": "python",
      "nbconvert_exporter": "python",
      "pygments_lexer": "ipython3",
      "version": "3.6.8"
    },
    "latex_envs": {
      "LaTeX_envs_menu_present": true,
      "autoclose": false,
      "autocomplete": true,
      "bibliofile": "biblio.bib",
      "cite_by": "apalike",
      "current_citInitial": 1,
      "eqLabelWithNumbers": true,
      "eqNumInitial": 1,
      "hotkeys": {
        "equation": "Ctrl-E",
        "itemize": "Ctrl-I"
      },
      "labels_anchors": false,
      "latex_user_defs": false,
      "report_style_numbering": false,
      "user_envs_cfg": false
    },
    "colab": {
      "provenance": [],
      "toc_visible": true
    }
  },
  "nbformat": 4,
  "nbformat_minor": 0
}